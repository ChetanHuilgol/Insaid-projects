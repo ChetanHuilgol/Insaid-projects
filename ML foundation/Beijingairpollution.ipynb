{
 "cells": [
  {
   "cell_type": "code",
   "execution_count": 51,
   "id": "59421989",
   "metadata": {},
   "outputs": [],
   "source": [
    "import pandas as pd\n",
    "import numpy as np\n",
    "import matplotlib.pyplot as plt\n",
    "import seaborn as sns\n",
    "from sklearn.feature_selection import SelectFromModel               \n",
    "from yellowbrick.model_selection import FeatureImportances\n",
    "from sklearn.ensemble import RandomForestRegressor\n",
    "from category_encoders import HashingEncoder\n",
    "from sklearn.preprocessing import StandardScaler\n",
    "from sklearn.model_selection import train_test_split\n",
    "from sklearn import neighbors\n",
    "from math import sqrt\n",
    "from sklearn.metrics import mean_squared_error\n",
    "from sklearn import metrics\n",
    "from sklearn.linear_model import LinearRegression\n",
    "from sklearn.linear_model import Lasso\n",
    "from sklearn.tree import DecisionTreeRegressor"
   ]
  },
  {
   "cell_type": "code",
   "execution_count": 52,
   "id": "f17c8549",
   "metadata": {},
   "outputs": [
    {
     "data": {
      "text/html": [
       "<div>\n",
       "<style scoped>\n",
       "    .dataframe tbody tr th:only-of-type {\n",
       "        vertical-align: middle;\n",
       "    }\n",
       "\n",
       "    .dataframe tbody tr th {\n",
       "        vertical-align: top;\n",
       "    }\n",
       "\n",
       "    .dataframe thead th {\n",
       "        text-align: right;\n",
       "    }\n",
       "</style>\n",
       "<table border=\"1\" class=\"dataframe\">\n",
       "  <thead>\n",
       "    <tr style=\"text-align: right;\">\n",
       "      <th></th>\n",
       "      <th>REF_NO</th>\n",
       "      <th>year</th>\n",
       "      <th>month</th>\n",
       "      <th>day</th>\n",
       "      <th>hour</th>\n",
       "      <th>PM2.5</th>\n",
       "      <th>PM10</th>\n",
       "      <th>SO2</th>\n",
       "      <th>NO2</th>\n",
       "      <th>CO</th>\n",
       "      <th>O3</th>\n",
       "      <th>TEMP</th>\n",
       "      <th>PRES</th>\n",
       "      <th>DEWP</th>\n",
       "      <th>RAIN</th>\n",
       "      <th>wd</th>\n",
       "      <th>WSPM</th>\n",
       "      <th>station</th>\n",
       "    </tr>\n",
       "  </thead>\n",
       "  <tbody>\n",
       "    <tr>\n",
       "      <th>0</th>\n",
       "      <td>1</td>\n",
       "      <td>2013</td>\n",
       "      <td>3</td>\n",
       "      <td>1</td>\n",
       "      <td>0</td>\n",
       "      <td>4.0</td>\n",
       "      <td>4.0</td>\n",
       "      <td>4.0</td>\n",
       "      <td>7.0</td>\n",
       "      <td>300.0</td>\n",
       "      <td>77.0</td>\n",
       "      <td>-0.7</td>\n",
       "      <td>1023.0</td>\n",
       "      <td>-18.8</td>\n",
       "      <td>0.0</td>\n",
       "      <td>NNW</td>\n",
       "      <td>4.4</td>\n",
       "      <td>Aotizhongxin</td>\n",
       "    </tr>\n",
       "    <tr>\n",
       "      <th>1</th>\n",
       "      <td>2</td>\n",
       "      <td>2013</td>\n",
       "      <td>3</td>\n",
       "      <td>1</td>\n",
       "      <td>1</td>\n",
       "      <td>8.0</td>\n",
       "      <td>8.0</td>\n",
       "      <td>4.0</td>\n",
       "      <td>7.0</td>\n",
       "      <td>300.0</td>\n",
       "      <td>77.0</td>\n",
       "      <td>-1.1</td>\n",
       "      <td>1023.2</td>\n",
       "      <td>-18.2</td>\n",
       "      <td>0.0</td>\n",
       "      <td>N</td>\n",
       "      <td>4.7</td>\n",
       "      <td>Aotizhongxin</td>\n",
       "    </tr>\n",
       "    <tr>\n",
       "      <th>2</th>\n",
       "      <td>3</td>\n",
       "      <td>2013</td>\n",
       "      <td>3</td>\n",
       "      <td>1</td>\n",
       "      <td>2</td>\n",
       "      <td>7.0</td>\n",
       "      <td>7.0</td>\n",
       "      <td>5.0</td>\n",
       "      <td>10.0</td>\n",
       "      <td>300.0</td>\n",
       "      <td>73.0</td>\n",
       "      <td>-1.1</td>\n",
       "      <td>1023.5</td>\n",
       "      <td>-18.2</td>\n",
       "      <td>0.0</td>\n",
       "      <td>NNW</td>\n",
       "      <td>5.6</td>\n",
       "      <td>Aotizhongxin</td>\n",
       "    </tr>\n",
       "    <tr>\n",
       "      <th>3</th>\n",
       "      <td>4</td>\n",
       "      <td>2013</td>\n",
       "      <td>3</td>\n",
       "      <td>1</td>\n",
       "      <td>3</td>\n",
       "      <td>6.0</td>\n",
       "      <td>6.0</td>\n",
       "      <td>11.0</td>\n",
       "      <td>11.0</td>\n",
       "      <td>300.0</td>\n",
       "      <td>72.0</td>\n",
       "      <td>-1.4</td>\n",
       "      <td>1024.5</td>\n",
       "      <td>-19.4</td>\n",
       "      <td>0.0</td>\n",
       "      <td>NW</td>\n",
       "      <td>3.1</td>\n",
       "      <td>Aotizhongxin</td>\n",
       "    </tr>\n",
       "    <tr>\n",
       "      <th>4</th>\n",
       "      <td>5</td>\n",
       "      <td>2013</td>\n",
       "      <td>3</td>\n",
       "      <td>1</td>\n",
       "      <td>4</td>\n",
       "      <td>3.0</td>\n",
       "      <td>3.0</td>\n",
       "      <td>12.0</td>\n",
       "      <td>12.0</td>\n",
       "      <td>300.0</td>\n",
       "      <td>72.0</td>\n",
       "      <td>-2.0</td>\n",
       "      <td>1025.2</td>\n",
       "      <td>-19.5</td>\n",
       "      <td>0.0</td>\n",
       "      <td>N</td>\n",
       "      <td>2.0</td>\n",
       "      <td>Aotizhongxin</td>\n",
       "    </tr>\n",
       "  </tbody>\n",
       "</table>\n",
       "</div>"
      ],
      "text/plain": [
       "   REF_NO  year  month  day  hour  PM2.5  PM10   SO2   NO2     CO    O3  TEMP  \\\n",
       "0       1  2013      3    1     0    4.0   4.0   4.0   7.0  300.0  77.0  -0.7   \n",
       "1       2  2013      3    1     1    8.0   8.0   4.0   7.0  300.0  77.0  -1.1   \n",
       "2       3  2013      3    1     2    7.0   7.0   5.0  10.0  300.0  73.0  -1.1   \n",
       "3       4  2013      3    1     3    6.0   6.0  11.0  11.0  300.0  72.0  -1.4   \n",
       "4       5  2013      3    1     4    3.0   3.0  12.0  12.0  300.0  72.0  -2.0   \n",
       "\n",
       "     PRES  DEWP  RAIN   wd  WSPM       station  \n",
       "0  1023.0 -18.8   0.0  NNW   4.4  Aotizhongxin  \n",
       "1  1023.2 -18.2   0.0    N   4.7  Aotizhongxin  \n",
       "2  1023.5 -18.2   0.0  NNW   5.6  Aotizhongxin  \n",
       "3  1024.5 -19.4   0.0   NW   3.1  Aotizhongxin  \n",
       "4  1025.2 -19.5   0.0    N   2.0  Aotizhongxin  "
      ]
     },
     "execution_count": 52,
     "metadata": {},
     "output_type": "execute_result"
    }
   ],
   "source": [
    "data=pd.read_csv('beijing_train.csv')\n",
    "data.head()"
   ]
  },
  {
   "cell_type": "code",
   "execution_count": 53,
   "id": "02e6ccb5",
   "metadata": {},
   "outputs": [
    {
     "data": {
      "text/html": [
       "<div>\n",
       "<style scoped>\n",
       "    .dataframe tbody tr th:only-of-type {\n",
       "        vertical-align: middle;\n",
       "    }\n",
       "\n",
       "    .dataframe tbody tr th {\n",
       "        vertical-align: top;\n",
       "    }\n",
       "\n",
       "    .dataframe thead th {\n",
       "        text-align: right;\n",
       "    }\n",
       "</style>\n",
       "<table border=\"1\" class=\"dataframe\">\n",
       "  <thead>\n",
       "    <tr style=\"text-align: right;\">\n",
       "      <th></th>\n",
       "      <th>REF_NO</th>\n",
       "      <th>year</th>\n",
       "      <th>month</th>\n",
       "      <th>day</th>\n",
       "      <th>hour</th>\n",
       "      <th>PM2.5</th>\n",
       "      <th>PM10</th>\n",
       "      <th>SO2</th>\n",
       "      <th>NO2</th>\n",
       "      <th>CO</th>\n",
       "      <th>O3</th>\n",
       "      <th>TEMP</th>\n",
       "      <th>PRES</th>\n",
       "      <th>DEWP</th>\n",
       "      <th>RAIN</th>\n",
       "      <th>WSPM</th>\n",
       "    </tr>\n",
       "  </thead>\n",
       "  <tbody>\n",
       "    <tr>\n",
       "      <th>count</th>\n",
       "      <td>403776.000000</td>\n",
       "      <td>403776.000000</td>\n",
       "      <td>403776.000000</td>\n",
       "      <td>403776.000000</td>\n",
       "      <td>403776.000000</td>\n",
       "      <td>395301.000000</td>\n",
       "      <td>397554.000000</td>\n",
       "      <td>395000.000000</td>\n",
       "      <td>391917.000000</td>\n",
       "      <td>383515.000000</td>\n",
       "      <td>390769.000000</td>\n",
       "      <td>403512.000000</td>\n",
       "      <td>403511.000000</td>\n",
       "      <td>403507.000000</td>\n",
       "      <td>403515.000000</td>\n",
       "      <td>403538.000000</td>\n",
       "    </tr>\n",
       "    <tr>\n",
       "      <th>mean</th>\n",
       "      <td>16824.500000</td>\n",
       "      <td>2014.564194</td>\n",
       "      <td>6.735378</td>\n",
       "      <td>15.748217</td>\n",
       "      <td>11.500000</td>\n",
       "      <td>79.248275</td>\n",
       "      <td>104.327897</td>\n",
       "      <td>15.733060</td>\n",
       "      <td>50.352785</td>\n",
       "      <td>1214.843339</td>\n",
       "      <td>58.119327</td>\n",
       "      <td>14.088899</td>\n",
       "      <td>1010.282534</td>\n",
       "      <td>3.157291</td>\n",
       "      <td>0.067052</td>\n",
       "      <td>1.718380</td>\n",
       "    </tr>\n",
       "    <tr>\n",
       "      <th>std</th>\n",
       "      <td>9713.352953</td>\n",
       "      <td>1.097503</td>\n",
       "      <td>3.356479</td>\n",
       "      <td>8.808891</td>\n",
       "      <td>6.922195</td>\n",
       "      <td>79.146708</td>\n",
       "      <td>90.136400</td>\n",
       "      <td>21.739455</td>\n",
       "      <td>34.771910</td>\n",
       "      <td>1124.285676</td>\n",
       "      <td>57.375966</td>\n",
       "      <td>11.303534</td>\n",
       "      <td>10.356778</td>\n",
       "      <td>13.617273</td>\n",
       "      <td>0.837845</td>\n",
       "      <td>1.237965</td>\n",
       "    </tr>\n",
       "    <tr>\n",
       "      <th>min</th>\n",
       "      <td>1.000000</td>\n",
       "      <td>2013.000000</td>\n",
       "      <td>1.000000</td>\n",
       "      <td>1.000000</td>\n",
       "      <td>0.000000</td>\n",
       "      <td>2.000000</td>\n",
       "      <td>2.000000</td>\n",
       "      <td>0.285600</td>\n",
       "      <td>1.026500</td>\n",
       "      <td>100.000000</td>\n",
       "      <td>0.214200</td>\n",
       "      <td>-19.900000</td>\n",
       "      <td>982.400000</td>\n",
       "      <td>-43.400000</td>\n",
       "      <td>0.000000</td>\n",
       "      <td>0.000000</td>\n",
       "    </tr>\n",
       "    <tr>\n",
       "      <th>25%</th>\n",
       "      <td>8412.750000</td>\n",
       "      <td>2014.000000</td>\n",
       "      <td>4.000000</td>\n",
       "      <td>8.000000</td>\n",
       "      <td>5.750000</td>\n",
       "      <td>21.000000</td>\n",
       "      <td>36.000000</td>\n",
       "      <td>2.000000</td>\n",
       "      <td>23.000000</td>\n",
       "      <td>500.000000</td>\n",
       "      <td>11.000000</td>\n",
       "      <td>4.000000</td>\n",
       "      <td>1002.000000</td>\n",
       "      <td>-8.000000</td>\n",
       "      <td>0.000000</td>\n",
       "      <td>0.900000</td>\n",
       "    </tr>\n",
       "    <tr>\n",
       "      <th>50%</th>\n",
       "      <td>16824.500000</td>\n",
       "      <td>2015.000000</td>\n",
       "      <td>7.000000</td>\n",
       "      <td>16.000000</td>\n",
       "      <td>11.500000</td>\n",
       "      <td>55.000000</td>\n",
       "      <td>83.000000</td>\n",
       "      <td>7.000000</td>\n",
       "      <td>43.000000</td>\n",
       "      <td>900.000000</td>\n",
       "      <td>45.000000</td>\n",
       "      <td>15.400000</td>\n",
       "      <td>1009.800000</td>\n",
       "      <td>4.200000</td>\n",
       "      <td>0.000000</td>\n",
       "      <td>1.400000</td>\n",
       "    </tr>\n",
       "    <tr>\n",
       "      <th>75%</th>\n",
       "      <td>25236.250000</td>\n",
       "      <td>2016.000000</td>\n",
       "      <td>10.000000</td>\n",
       "      <td>23.000000</td>\n",
       "      <td>17.250000</td>\n",
       "      <td>110.000000</td>\n",
       "      <td>145.000000</td>\n",
       "      <td>19.000000</td>\n",
       "      <td>71.000000</td>\n",
       "      <td>1500.000000</td>\n",
       "      <td>83.000000</td>\n",
       "      <td>23.500000</td>\n",
       "      <td>1018.300000</td>\n",
       "      <td>15.500000</td>\n",
       "      <td>0.000000</td>\n",
       "      <td>2.200000</td>\n",
       "    </tr>\n",
       "    <tr>\n",
       "      <th>max</th>\n",
       "      <td>33648.000000</td>\n",
       "      <td>2016.000000</td>\n",
       "      <td>12.000000</td>\n",
       "      <td>31.000000</td>\n",
       "      <td>23.000000</td>\n",
       "      <td>999.000000</td>\n",
       "      <td>999.000000</td>\n",
       "      <td>500.000000</td>\n",
       "      <td>290.000000</td>\n",
       "      <td>10000.000000</td>\n",
       "      <td>1071.000000</td>\n",
       "      <td>41.600000</td>\n",
       "      <td>1042.800000</td>\n",
       "      <td>29.100000</td>\n",
       "      <td>72.500000</td>\n",
       "      <td>13.200000</td>\n",
       "    </tr>\n",
       "  </tbody>\n",
       "</table>\n",
       "</div>"
      ],
      "text/plain": [
       "              REF_NO           year          month            day  \\\n",
       "count  403776.000000  403776.000000  403776.000000  403776.000000   \n",
       "mean    16824.500000    2014.564194       6.735378      15.748217   \n",
       "std      9713.352953       1.097503       3.356479       8.808891   \n",
       "min         1.000000    2013.000000       1.000000       1.000000   \n",
       "25%      8412.750000    2014.000000       4.000000       8.000000   \n",
       "50%     16824.500000    2015.000000       7.000000      16.000000   \n",
       "75%     25236.250000    2016.000000      10.000000      23.000000   \n",
       "max     33648.000000    2016.000000      12.000000      31.000000   \n",
       "\n",
       "                hour          PM2.5           PM10            SO2  \\\n",
       "count  403776.000000  395301.000000  397554.000000  395000.000000   \n",
       "mean       11.500000      79.248275     104.327897      15.733060   \n",
       "std         6.922195      79.146708      90.136400      21.739455   \n",
       "min         0.000000       2.000000       2.000000       0.285600   \n",
       "25%         5.750000      21.000000      36.000000       2.000000   \n",
       "50%        11.500000      55.000000      83.000000       7.000000   \n",
       "75%        17.250000     110.000000     145.000000      19.000000   \n",
       "max        23.000000     999.000000     999.000000     500.000000   \n",
       "\n",
       "                 NO2             CO             O3           TEMP  \\\n",
       "count  391917.000000  383515.000000  390769.000000  403512.000000   \n",
       "mean       50.352785    1214.843339      58.119327      14.088899   \n",
       "std        34.771910    1124.285676      57.375966      11.303534   \n",
       "min         1.026500     100.000000       0.214200     -19.900000   \n",
       "25%        23.000000     500.000000      11.000000       4.000000   \n",
       "50%        43.000000     900.000000      45.000000      15.400000   \n",
       "75%        71.000000    1500.000000      83.000000      23.500000   \n",
       "max       290.000000   10000.000000    1071.000000      41.600000   \n",
       "\n",
       "                PRES           DEWP           RAIN           WSPM  \n",
       "count  403511.000000  403507.000000  403515.000000  403538.000000  \n",
       "mean     1010.282534       3.157291       0.067052       1.718380  \n",
       "std        10.356778      13.617273       0.837845       1.237965  \n",
       "min       982.400000     -43.400000       0.000000       0.000000  \n",
       "25%      1002.000000      -8.000000       0.000000       0.900000  \n",
       "50%      1009.800000       4.200000       0.000000       1.400000  \n",
       "75%      1018.300000      15.500000       0.000000       2.200000  \n",
       "max      1042.800000      29.100000      72.500000      13.200000  "
      ]
     },
     "execution_count": 53,
     "metadata": {},
     "output_type": "execute_result"
    }
   ],
   "source": [
    "data.describe()"
   ]
  },
  {
   "cell_type": "code",
   "execution_count": 54,
   "id": "ad4546bb",
   "metadata": {},
   "outputs": [
    {
     "name": "stdout",
     "output_type": "stream",
     "text": [
      "<class 'pandas.core.frame.DataFrame'>\n",
      "RangeIndex: 403776 entries, 0 to 403775\n",
      "Data columns (total 18 columns):\n",
      " #   Column   Non-Null Count   Dtype  \n",
      "---  ------   --------------   -----  \n",
      " 0   REF_NO   403776 non-null  int64  \n",
      " 1   year     403776 non-null  int64  \n",
      " 2   month    403776 non-null  int64  \n",
      " 3   day      403776 non-null  int64  \n",
      " 4   hour     403776 non-null  int64  \n",
      " 5   PM2.5    395301 non-null  float64\n",
      " 6   PM10     397554 non-null  float64\n",
      " 7   SO2      395000 non-null  float64\n",
      " 8   NO2      391917 non-null  float64\n",
      " 9   CO       383515 non-null  float64\n",
      " 10  O3       390769 non-null  float64\n",
      " 11  TEMP     403512 non-null  float64\n",
      " 12  PRES     403511 non-null  float64\n",
      " 13  DEWP     403507 non-null  float64\n",
      " 14  RAIN     403515 non-null  float64\n",
      " 15  wd       402387 non-null  object \n",
      " 16  WSPM     403538 non-null  float64\n",
      " 17  station  403776 non-null  object \n",
      "dtypes: float64(11), int64(5), object(2)\n",
      "memory usage: 55.5+ MB\n"
     ]
    }
   ],
   "source": [
    "data.info()"
   ]
  },
  {
   "cell_type": "code",
   "execution_count": 55,
   "id": "e4224ca5",
   "metadata": {},
   "outputs": [
    {
     "data": {
      "text/plain": [
       "REF_NO         0\n",
       "year           0\n",
       "month          0\n",
       "day            0\n",
       "hour           0\n",
       "PM2.5       8475\n",
       "PM10        6222\n",
       "SO2         8776\n",
       "NO2        11859\n",
       "CO         20261\n",
       "O3         13007\n",
       "TEMP         264\n",
       "PRES         265\n",
       "DEWP         269\n",
       "RAIN         261\n",
       "wd          1389\n",
       "WSPM         238\n",
       "station        0\n",
       "dtype: int64"
      ]
     },
     "execution_count": 55,
     "metadata": {},
     "output_type": "execute_result"
    }
   ],
   "source": [
    "data.isnull().sum()"
   ]
  },
  {
   "cell_type": "code",
   "execution_count": 56,
   "id": "5ae0f6ff",
   "metadata": {},
   "outputs": [],
   "source": [
    "data['PM2.5']=data['PM2.5'].fillna(79.248275)\n",
    "data['PM10']=data['PM10'].fillna(104.327897)\n",
    "data['SO2']=data['SO2'].fillna(15.733060)\n",
    "data['NO2']=data['NO2'].fillna(50.352785)\n",
    "data['CO']=data['CO'].fillna(1214.843339)\n",
    "data['O3']=data['O3'].fillna(58.119327)\n",
    "data['TEMP']=data['TEMP'].fillna(14.088899)\n",
    "data['PRES']=data['PRES'].fillna(1010.282534)\n",
    "data['DEWP']=data['DEWP'].fillna(3.157291)\n",
    "data['RAIN']=data['RAIN'].fillna(0)\n",
    "data['wd']=data['wd'].fillna('NE')\n",
    "data['WSPM']=data['WSPM'].fillna(1.718380)"
   ]
  },
  {
   "cell_type": "code",
   "execution_count": 57,
   "id": "9eb97c39",
   "metadata": {},
   "outputs": [
    {
     "data": {
      "text/plain": [
       "REF_NO     0\n",
       "year       0\n",
       "month      0\n",
       "day        0\n",
       "hour       0\n",
       "PM2.5      0\n",
       "PM10       0\n",
       "SO2        0\n",
       "NO2        0\n",
       "CO         0\n",
       "O3         0\n",
       "TEMP       0\n",
       "PRES       0\n",
       "DEWP       0\n",
       "RAIN       0\n",
       "wd         0\n",
       "WSPM       0\n",
       "station    0\n",
       "dtype: int64"
      ]
     },
     "execution_count": 57,
     "metadata": {},
     "output_type": "execute_result"
    }
   ],
   "source": [
    "data.isnull().sum()"
   ]
  },
  {
   "cell_type": "code",
   "execution_count": 58,
   "id": "9e68ecc4",
   "metadata": {},
   "outputs": [],
   "source": [
    "obj_col=[]\n",
    "for col in data:\n",
    "    if data[col].dtype=='object':\n",
    "        obj_col.append(col)"
   ]
  },
  {
   "cell_type": "code",
   "execution_count": 59,
   "id": "fe4a6d4c",
   "metadata": {},
   "outputs": [],
   "source": [
    "Num_col=[]\n",
    "for col in data:\n",
    "    if col not in obj_col:\n",
    "        Num_col.append(col)"
   ]
  },
  {
   "cell_type": "code",
   "execution_count": 60,
   "id": "ec4fd620",
   "metadata": {
    "scrolled": true
   },
   "outputs": [
    {
     "data": {
      "text/plain": [
       "16"
      ]
     },
     "execution_count": 60,
     "metadata": {},
     "output_type": "execute_result"
    }
   ],
   "source": [
    "len(Num_col)"
   ]
  },
  {
   "cell_type": "code",
   "execution_count": 61,
   "id": "1f21d8b0",
   "metadata": {},
   "outputs": [
    {
     "data": {
      "text/plain": [
       "['REF_NO',\n",
       " 'year',\n",
       " 'month',\n",
       " 'day',\n",
       " 'hour',\n",
       " 'PM2.5',\n",
       " 'PM10',\n",
       " 'SO2',\n",
       " 'NO2',\n",
       " 'CO',\n",
       " 'O3',\n",
       " 'TEMP',\n",
       " 'PRES',\n",
       " 'DEWP',\n",
       " 'RAIN',\n",
       " 'WSPM']"
      ]
     },
     "execution_count": 61,
     "metadata": {},
     "output_type": "execute_result"
    }
   ],
   "source": [
    "Num_col"
   ]
  },
  {
   "cell_type": "code",
   "execution_count": 62,
   "id": "a0c7d483",
   "metadata": {},
   "outputs": [
    {
     "data": {
      "text/plain": [
       "<AxesSubplot:ylabel='WSPM'>"
      ]
     },
     "execution_count": 62,
     "metadata": {},
     "output_type": "execute_result"
    },
    {
     "data": {
      "image/png": "[encoded data removed]",
      "text/plain": [
       "<Figure size 2160x2880 with 16 Axes>"
      ]
     },
     "metadata": {},
     "output_type": "display_data"
    }
   ],
   "source": [
    "fig,axes=plt.subplots(4,4,figsize=(30,40))\n",
    "sns.boxplot(ax=axes[0,0],data=data,y=data['REF_NO'])\n",
    "sns.boxplot(ax=axes[0,1],data=data,y=data['year'])\n",
    "sns.boxplot(ax=axes[0,2],data=data,y=data['month'])\n",
    "sns.boxplot(ax=axes[0,3],data=data,y=data['day'])\n",
    "sns.boxplot(ax=axes[1,0],data=data,y=data['hour'])\n",
    "sns.boxplot(ax=axes[1,1],data=data,y=data['PM2.5'])\n",
    "sns.boxplot(ax=axes[1,2],data=data,y=data['PM10'])\n",
    "sns.boxplot(ax=axes[1,3],data=data,y=data['SO2'])\n",
    "sns.boxplot(ax=axes[2,0],data=data,y=data['NO2'])\n",
    "sns.boxplot(ax=axes[2,1],data=data,y=data['CO'])\n",
    "sns.boxplot(ax=axes[2,2],data=data,y=data['O3'])\n",
    "sns.boxplot(ax=axes[2,3],data=data,y=data['TEMP'])\n",
    "sns.boxplot(ax=axes[3,0],data=data,y=data['PRES'])\n",
    "sns.boxplot(ax=axes[3,1],data=data,y=data['DEWP'])\n",
    "sns.boxplot(ax=axes[3,2],data=data,y=data['RAIN'])\n",
    "sns.boxplot(ax=axes[3,3],data=data,y=data['WSPM'])"
   ]
  },
  {
   "cell_type": "code",
   "execution_count": 63,
   "id": "3acfcb2b",
   "metadata": {},
   "outputs": [
    {
     "data": {
      "text/plain": [
       "['REF_NO',\n",
       " 'year',\n",
       " 'month',\n",
       " 'day',\n",
       " 'hour',\n",
       " 'PM2.5',\n",
       " 'PM10',\n",
       " 'SO2',\n",
       " 'NO2',\n",
       " 'CO',\n",
       " 'O3',\n",
       " 'TEMP',\n",
       " 'PRES',\n",
       " 'DEWP',\n",
       " 'RAIN',\n",
       " 'WSPM']"
      ]
     },
     "execution_count": 63,
     "metadata": {},
     "output_type": "execute_result"
    }
   ],
   "source": [
    "Num_col"
   ]
  },
  {
   "cell_type": "code",
   "execution_count": 64,
   "id": "e1feb449",
   "metadata": {},
   "outputs": [],
   "source": [
    "outlier=['SO2','NO2','CO','O3','WSPM']"
   ]
  },
  {
   "cell_type": "code",
   "execution_count": 65,
   "id": "b58cde8e",
   "metadata": {},
   "outputs": [
    {
     "name": "stdout",
     "output_type": "stream",
     "text": [
      "Column name:  SO2\n",
      "q1 and q3 : 2.2848 19.0\n",
      "inter quartile range : 16.7152\n",
      "lower and upper boundary :  -22.788 44.0728\n",
      "tenth percentile :  2.0\n",
      "nintieth percentile :  41.0\n",
      "Imputed successfully\n",
      "\n",
      "\n",
      "Column name:  NO2\n",
      "q1 and q3 : 24.0 70.0\n",
      "inter quartile range : 46.0\n",
      "lower and upper boundary :  -45.0 139.0\n",
      "tenth percentile :  13.0\n",
      "nintieth percentile :  98.0\n",
      "Imputed successfully\n",
      "\n",
      "\n",
      "Column name:  CO\n",
      "q1 and q3 : 500.0 1500.0\n",
      "inter quartile range : 1000.0\n",
      "lower and upper boundary :  -1000.0 3000.0\n",
      "tenth percentile :  300.0\n",
      "nintieth percentile :  2500.0\n",
      "Imputed successfully\n",
      "\n",
      "\n",
      "Column name:  O3\n",
      "q1 and q3 : 12.0 82.0\n",
      "inter quartile range : 70.0\n",
      "lower and upper boundary :  -93.0 187.0\n",
      "tenth percentile :  2.0\n",
      "nintieth percentile :  134.0\n",
      "Imputed successfully\n",
      "\n",
      "\n",
      "Column name:  WSPM\n",
      "q1 and q3 : 0.9 2.2\n",
      "inter quartile range : 1.3000000000000003\n",
      "lower and upper boundary :  -1.0500000000000003 4.15\n",
      "tenth percentile :  0.6\n",
      "nintieth percentile :  3.4\n",
      "Imputed successfully\n",
      "\n",
      "\n"
     ]
    }
   ],
   "source": [
    "for col in outlier:\n",
    "    data[col]=sorted(data[col])\n",
    "    q1=np.percentile(data[col],25)\n",
    "    q3=np.percentile(data[col],75)\n",
    "    iqr=q3-q1\n",
    "    lwr=q1-(1.5*iqr)\n",
    "    upr=q3+(1.5*iqr)\n",
    "    tenth=np.percentile(data[col],10)\n",
    "    ninty=np.percentile(data[col],90)\n",
    "    print('Column name: ',col)\n",
    "    print('q1 and q3 :',q1 , q3)\n",
    "    print('inter quartile range :',iqr)\n",
    "    print('lower and upper boundary : ',lwr , upr)\n",
    "    print('tenth percentile : ',tenth);print('nintieth percentile : ',ninty)\n",
    "    data[col]=np.where(data[col]<lwr,tenth,data[col])\n",
    "    data[col]=np.where(data[col]>upr,ninty,data[col])\n",
    "    print('Imputed successfully')\n",
    "    print('\\n')"
   ]
  },
  {
   "cell_type": "code",
   "execution_count": 66,
   "id": "5e2914d0",
   "metadata": {},
   "outputs": [],
   "source": [
    "data1=data.copy()"
   ]
  },
  {
   "cell_type": "code",
   "execution_count": 67,
   "id": "6a373042",
   "metadata": {},
   "outputs": [
    {
     "data": {
      "text/plain": [
       "3000.0"
      ]
     },
     "execution_count": 67,
     "metadata": {},
     "output_type": "execute_result"
    }
   ],
   "source": [
    "data1['CO'].max()"
   ]
  },
  {
   "cell_type": "code",
   "execution_count": 68,
   "id": "0a6a3327",
   "metadata": {},
   "outputs": [
    {
     "data": {
      "text/plain": [
       "4.1"
      ]
     },
     "execution_count": 68,
     "metadata": {},
     "output_type": "execute_result"
    }
   ],
   "source": [
    "data['WSPM'].max()"
   ]
  },
  {
   "cell_type": "code",
   "execution_count": 69,
   "id": "f171b867",
   "metadata": {},
   "outputs": [
    {
     "data": {
      "text/plain": [
       "<AxesSubplot:ylabel='O3'>"
      ]
     },
     "execution_count": 69,
     "metadata": {},
     "output_type": "execute_result"
    },
    {
     "data": {
      "image/png": "[encoded data removed]",
      "text/plain": [
       "<Figure size 2160x2880 with 6 Axes>"
      ]
     },
     "metadata": {},
     "output_type": "display_data"
    }
   ],
   "source": [
    "fig,axes=plt.subplots(3,2,figsize=(30,40))\n",
    "sns.boxplot(ax=axes[0,0],data=data,y=data['WSPM'])\n",
    "sns.boxplot(ax=axes[0,1],data=data,y=data['SO2'])\n",
    "sns.boxplot(ax=axes[1,0],data=data,y=data['NO2'])\n",
    "sns.boxplot(ax=axes[1,1],data=data,y=data['CO'])\n",
    "sns.boxplot(ax=axes[2,0],data=data,y=data['O3'])"
   ]
  },
  {
   "cell_type": "code",
   "execution_count": 70,
   "id": "e885be00",
   "metadata": {},
   "outputs": [
    {
     "data": {
      "text/plain": [
       "['wd', 'station']"
      ]
     },
     "execution_count": 70,
     "metadata": {},
     "output_type": "execute_result"
    }
   ],
   "source": [
    "obj_col"
   ]
  },
  {
   "cell_type": "code",
   "execution_count": 71,
   "id": "7cd24da0",
   "metadata": {},
   "outputs": [],
   "source": [
    "#sns.pairplot(data1)"
   ]
  },
  {
   "cell_type": "code",
   "execution_count": 72,
   "id": "c346b514",
   "metadata": {},
   "outputs": [],
   "source": [
    "#sns.heatmap(data1.corr(),annot=True)"
   ]
  },
  {
   "cell_type": "code",
   "execution_count": 76,
   "id": "0528b17a",
   "metadata": {},
   "outputs": [],
   "source": [
    "encoder=HashingEncoder(cols=obj_col,n_components=14)\n",
    "data2=encoder.fit_transform(data1)"
   ]
  },
  {
   "cell_type": "code",
   "execution_count": 77,
   "id": "9e7c70c9",
   "metadata": {},
   "outputs": [
    {
     "data": {
      "text/plain": [
       "Index(['col_0', 'col_1', 'col_2', 'col_3', 'col_4', 'col_5', 'col_6', 'col_7',\n",
       "       'col_8', 'col_9', 'col_10', 'col_11', 'col_12', 'col_13', 'REF_NO',\n",
       "       'year', 'month', 'day', 'hour', 'PM2.5', 'PM10', 'SO2', 'NO2', 'CO',\n",
       "       'O3', 'TEMP', 'PRES', 'DEWP', 'RAIN', 'WSPM'],\n",
       "      dtype='object')"
      ]
     },
     "execution_count": 77,
     "metadata": {},
     "output_type": "execute_result"
    }
   ],
   "source": [
    "data2.columns"
   ]
  },
  {
   "cell_type": "code",
   "execution_count": 78,
   "id": "a556b5ab",
   "metadata": {},
   "outputs": [],
   "source": [
    "X=data2.drop('PM2.5',axis=1)\n",
    "y=data2['PM2.5']"
   ]
  },
  {
   "cell_type": "code",
   "execution_count": 79,
   "id": "476e3ff0",
   "metadata": {},
   "outputs": [],
   "source": [
    "X_scaled=StandardScaler().fit_transform(X)\n",
    "X=pd.DataFrame(data=X_scaled,columns=X.columns)"
   ]
  },
  {
   "cell_type": "code",
   "execution_count": 81,
   "id": "20e1c04b",
   "metadata": {},
   "outputs": [],
   "source": [
    "X_train,X_test,y_train,y_test=train_test_split(X,y,test_size=0.2,random_state=42)"
   ]
  },
  {
   "cell_type": "code",
   "execution_count": 82,
   "id": "75145d1d",
   "metadata": {},
   "outputs": [
    {
     "name": "stdout",
     "output_type": "stream",
     "text": [
      "Train cases as below\n",
      "X_train shape:  (323020, 29)\n",
      "y_train shape:  (323020,)\n",
      "\n",
      "Test cases as below\n",
      "X_test shape:  (80756, 29)\n",
      "y_test shape:  (80756,)\n"
     ]
    }
   ],
   "source": [
    "print('Train cases as below')\n",
    "print('X_train shape: ',X_train.shape)\n",
    "print('y_train shape: ',y_train.shape)\n",
    "print('\\nTest cases as below')\n",
    "print('X_test shape: ',X_test.shape)\n",
    "print('y_test shape: ',y_test.shape)"
   ]
  },
  {
   "cell_type": "code",
   "execution_count": 33,
   "id": "88fa7a64",
   "metadata": {},
   "outputs": [
    {
     "name": "stderr",
     "output_type": "stream",
     "text": [
      "C:\\Users\\7560\\anaconda3\\lib\\site-packages\\seaborn\\_decorators.py:36: FutureWarning: Pass the following variables as keyword args: x, y. From version 0.12, the only valid positional argument will be `data`, and passing other arguments without an explicit keyword will result in an error or misinterpretation.\n",
      "  warnings.warn(\n"
     ]
    },
    {
     "data": {
      "text/plain": [
       "Text(0, 0.5, 'Predicted values')"
      ]
     },
     "execution_count": 33,
     "metadata": {},
     "output_type": "execute_result"
    },
    {
     "data": {
      "image/png": "[encoded data removed]",
      "text/plain": [
       "<Figure size 432x288 with 1 Axes>"
      ]
     },
     "metadata": {
      "needs_background": "light"
     },
     "output_type": "display_data"
    }
   ],
   "source": [
    "linreg=LinearRegression()\n",
    "linreg.fit(X_train,y_train)\n",
    "y_pred_train=linreg.predict(X_train)\n",
    "y_pred_test=linreg.predict(X_test)\n",
    "sns.regplot(y_test,y_pred_test)\n",
    "plt.xlabel(xlabel='Actual values')\n",
    "plt.ylabel(ylabel='Predicted values')\n"
   ]
  },
  {
   "cell_type": "code",
   "execution_count": 35,
   "id": "616f0439",
   "metadata": {},
   "outputs": [
    {
     "name": "stdout",
     "output_type": "stream",
     "text": [
      "RMSE for training set is 35.37215638378316\n",
      "RMSE for test set is 35.13277270719194\n"
     ]
    }
   ],
   "source": [
    "RMSE_train = np.sqrt( metrics.mean_squared_error(y_train, y_pred_train))\n",
    "RMSE_test = np.sqrt(metrics.mean_squared_error(y_test, y_pred_test))\n",
    "print('RMSE for training set is {}'.format(RMSE_train))\n",
    "print('RMSE for test set is {}'.format(RMSE_test))"
   ]
  },
  {
   "cell_type": "code",
   "execution_count": 42,
   "id": "0616a5f1",
   "metadata": {},
   "outputs": [
    {
     "name": "stdout",
     "output_type": "stream",
     "text": [
      "RMSE for training set is 35.50420219353233\n",
      "RMSE for test set is 35.27124295413228\n"
     ]
    }
   ],
   "source": [
    "lasso=Lasso(alpha=0.1)\n",
    "lasso.fit(X_train,y_train)\n",
    "y_pred_train=lasso.predict(X_train)\n",
    "y_pred_test=lasso.predict(X_test)\n",
    "RMSE_train = np.sqrt( metrics.mean_squared_error(y_train, y_pred_train))\n",
    "RMSE_test = np.sqrt(metrics.mean_squared_error(y_test, y_pred_test))\n",
    "print('RMSE for training set is {}'.format(RMSE_train))\n",
    "print('RMSE for test set is {}'.format(RMSE_test))\n"
   ]
  },
  {
   "cell_type": "code",
   "execution_count": 85,
   "id": "a7bfda9f",
   "metadata": {},
   "outputs": [
    {
     "name": "stdout",
     "output_type": "stream",
     "text": [
      "RMSE for training set is 19.389107028431805\n",
      "RMSE for test set is 29.169891056481102\n"
     ]
    }
   ],
   "source": [
    "knn = neighbors.KNeighborsRegressor(n_neighbors = 3)\n",
    "knn.fit(X_train,y_train)\n",
    "y_pred_train=knn.predict(X_train)\n",
    "y_pred_test=knn.predict(X_test)\n",
    "RMSE_train = np.sqrt( metrics.mean_squared_error(y_train, y_pred_train))\n",
    "RMSE_test = np.sqrt(metrics.mean_squared_error(y_test, y_pred_test))\n",
    "print('RMSE for training set is {}'.format(RMSE_train))\n",
    "print('RMSE for test set is {}'.format(RMSE_test))"
   ]
  },
  {
   "cell_type": "code",
   "execution_count": 36,
   "id": "5273bcc2",
   "metadata": {},
   "outputs": [],
   "source": [
    "dtr=DecisionTreeRegressor()\n",
    "dtr.fit(X_train,y_train)\n",
    "y_pred_train=dtr.predict(X_train)\n",
    "y_pred_test=dtr.predict(X_test)\n"
   ]
  },
  {
   "cell_type": "code",
   "execution_count": 37,
   "id": "71a4d1fd",
   "metadata": {},
   "outputs": [
    {
     "name": "stdout",
     "output_type": "stream",
     "text": [
      "RMSE for training set is 3.9051158021454664e-14\n",
      "RMSE for test set is 24.3353634282595\n"
     ]
    }
   ],
   "source": [
    "RMSE_train = np.sqrt( metrics.mean_squared_error(y_train, y_pred_train))\n",
    "RMSE_test = np.sqrt(metrics.mean_squared_error(y_test, y_pred_test))\n",
    "print('RMSE for training set is {}'.format(RMSE_train))\n",
    "print('RMSE for test set is {}'.format(RMSE_test))"
   ]
  },
  {
   "cell_type": "code",
   "execution_count": 40,
   "id": "083262f7",
   "metadata": {},
   "outputs": [
    {
     "name": "stdout",
     "output_type": "stream",
     "text": [
      "RMSE for training set is 6.344231378217336\n",
      "RMSE for test set is 17.049707860735715\n"
     ]
    }
   ],
   "source": [
    "rf=RandomForestRegressor()\n",
    "rf.fit(X_train,y_train)\n",
    "y_pred_train=rf.predict(X_train)\n",
    "y_pred_test=rf.predict(X_test)\n",
    "RMSE_train = np.sqrt( metrics.mean_squared_error(y_train, y_pred_train))\n",
    "RMSE_test = np.sqrt(metrics.mean_squared_error(y_test, y_pred_test))\n",
    "print('RMSE for training set is {}'.format(RMSE_train))\n",
    "print('RMSE for test set is {}'.format(RMSE_test))\n"
   ]
  },
  {
   "cell_type": "code",
   "execution_count": 40,
   "id": "d1370708",
   "metadata": {},
   "outputs": [
    {
     "name": "stdout",
     "output_type": "stream",
     "text": [
      "Total Features Selected are 4\n",
      "Threshold set by Model: 0.03\n",
      "Important Features: ['REF_NO', 'PM10', 'TEMP', 'DEWP']\n"
     ]
    }
   ],
   "source": [
    "selector=SelectFromModel(estimator=RandomForestRegressor(n_estimators=100,random_state=42,n_jobs=-1))\n",
    "selector.fit(X,y)\n",
    "selected_feat=X.columns[(selector.get_support())].to_list()\n",
    "print('Total Features Selected are', len(selected_feat))\n",
    "print('Threshold set by Model:', np.round(selector.threshold_, decimals = 2))\n",
    "print('Important Features:', selected_feat)"
   ]
  },
  {
   "cell_type": "code",
   "execution_count": 107,
   "id": "24fe2dda",
   "metadata": {},
   "outputs": [],
   "source": [
    "X=data2[['REF_NO', 'PM10', 'TEMP', 'DEWP']]\n",
    "y=data2['PM2.5']"
   ]
  },
  {
   "cell_type": "code",
   "execution_count": 108,
   "id": "71cd3f9f",
   "metadata": {},
   "outputs": [
    {
     "name": "stdout",
     "output_type": "stream",
     "text": [
      "Train cases as below\n",
      "X_train shape:  (323020, 4)\n",
      "y_train shape:  (323020,)\n",
      "\n",
      "Test cases as below\n",
      "X_test shape:  (80756, 4)\n",
      "y_test shape:  (80756,)\n"
     ]
    }
   ],
   "source": [
    "X_train,X_test,y_train,y_test=train_test_split(X,y,test_size=0.2,random_state=42)\n",
    "print('Train cases as below')\n",
    "print('X_train shape: ',X_train.shape)\n",
    "print('y_train shape: ',y_train.shape)\n",
    "print('\\nTest cases as below')\n",
    "print('X_test shape: ',X_test.shape)\n",
    "print('y_test shape: ',y_test.shape)"
   ]
  },
  {
   "cell_type": "code",
   "execution_count": 47,
   "id": "50aaf5cd",
   "metadata": {},
   "outputs": [
    {
     "name": "stdout",
     "output_type": "stream",
     "text": [
      "RMSE for training set is 6.986132491463828\n",
      "RMSE for test set is 18.81997881787229\n"
     ]
    }
   ],
   "source": [
    "rf=RandomForestRegressor()\n",
    "rf.fit(X_train,y_train)\n",
    "y_pred_train=rf.predict(X_train)\n",
    "y_pred_test=rf.predict(X_test)\n",
    "RMSE_train = np.sqrt( metrics.mean_squared_error(y_train, y_pred_train))\n",
    "RMSE_test = np.sqrt(metrics.mean_squared_error(y_test, y_pred_test))\n",
    "print('RMSE for training set is {}'.format(RMSE_train))\n",
    "print('RMSE for test set is {}'.format(RMSE_test))"
   ]
  },
  {
   "cell_type": "code",
   "execution_count": 109,
   "id": "8b22fbfe",
   "metadata": {},
   "outputs": [
    {
     "name": "stdout",
     "output_type": "stream",
     "text": [
      "RMSE for training set is 12.302673908034832\n",
      "RMSE for test set is 18.058542092100513\n"
     ]
    }
   ],
   "source": [
    "knn = neighbors.KNeighborsRegressor(n_neighbors = 3)\n",
    "knn.fit(X_train,y_train)\n",
    "y_pred_train=knn.predict(X_train)\n",
    "y_pred_test=knn.predict(X_test)\n",
    "RMSE_train = np.sqrt( metrics.mean_squared_error(y_train, y_pred_train))\n",
    "RMSE_test = np.sqrt(metrics.mean_squared_error(y_test, y_pred_test))\n",
    "print('RMSE for training set is {}'.format(RMSE_train))\n",
    "print('RMSE for test set is {}'.format(RMSE_test))"
   ]
  },
  {
   "cell_type": "code",
   "execution_count": 112,
   "id": "184cbb56",
   "metadata": {},
   "outputs": [
    {
     "data": {
      "text/plain": [
       "(16728, 4)"
      ]
     },
     "execution_count": 112,
     "metadata": {},
     "output_type": "execute_result"
    }
   ],
   "source": [
    "test=pd.read_csv('beijing_test.csv')\n",
    "test=test[['REF_NO', 'PM10', 'TEMP', 'DEWP']]\n",
    "test.shape"
   ]
  },
  {
   "cell_type": "code",
   "execution_count": 114,
   "id": "18c32012",
   "metadata": {},
   "outputs": [],
   "source": [
    "result=knn.predict(test)\n",
    "result=pd.Series(data=result)\n",
    "submission=pd.read_csv('beijing_test.csv')\n",
    "submission['PM']=result\n",
    "submission.drop(['year', 'month', 'day', 'hour', 'PM10', 'SO2', 'NO2', 'CO','O3', 'TEMP', 'PRES', 'DEWP', 'RAIN', 'wd', 'WSPM', 'station'],axis=1,inplace=True)\n",
    "submission.to_csv('submission_file.csv',index=False,header=False)"
   ]
  },
  {
   "cell_type": "code",
   "execution_count": null,
   "id": "cf69e7eb",
   "metadata": {},
   "outputs": [],
   "source": []
  }
 ],
 "metadata": {
  "kernelspec": {
   "display_name": "Python 3 (ipykernel)",
   "language": "python",
   "name": "python3"
  },
  "language_info": {
   "codemirror_mode": {
    "name": "ipython",
    "version": 3
   },
   "file_extension": ".py",
   "mimetype": "text/x-python",
   "name": "python",
   "nbconvert_exporter": "python",
   "pygments_lexer": "ipython3",
   "version": "3.9.7"
  }
 },
 "nbformat": 4,
 "nbformat_minor": 5
}
