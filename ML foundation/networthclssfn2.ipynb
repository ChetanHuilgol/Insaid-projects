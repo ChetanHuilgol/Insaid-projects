{
 "cells": [
  {
   "cell_type": "code",
   "execution_count": 2,
   "id": "b2fd1a70",
   "metadata": {},
   "outputs": [],
   "source": [
    "import pandas as pd"
   ]
  },
  {
   "cell_type": "code",
   "execution_count": 3,
   "id": "0ef9cbe0",
   "metadata": {},
   "outputs": [
    {
     "data": {
      "text/html": [
       "<div>\n",
       "<style scoped>\n",
       "    .dataframe tbody tr th:only-of-type {\n",
       "        vertical-align: middle;\n",
       "    }\n",
       "\n",
       "    .dataframe tbody tr th {\n",
       "        vertical-align: top;\n",
       "    }\n",
       "\n",
       "    .dataframe thead th {\n",
       "        text-align: right;\n",
       "    }\n",
       "</style>\n",
       "<table border=\"1\" class=\"dataframe\">\n",
       "  <thead>\n",
       "    <tr style=\"text-align: right;\">\n",
       "      <th></th>\n",
       "      <th>REF_NO</th>\n",
       "      <th>children</th>\n",
       "      <th>age_band</th>\n",
       "      <th>status</th>\n",
       "      <th>occupation</th>\n",
       "      <th>occupation_partner</th>\n",
       "      <th>home_status</th>\n",
       "      <th>family_income</th>\n",
       "      <th>self_employed</th>\n",
       "      <th>self_employed_partner</th>\n",
       "      <th>...</th>\n",
       "      <th>Investment_Tax_Saving_Bond</th>\n",
       "      <th>Home_Loan</th>\n",
       "      <th>Online_Purchase_Amount</th>\n",
       "      <th>gender</th>\n",
       "      <th>region</th>\n",
       "      <th>Investment_in_Commudity</th>\n",
       "      <th>Investment_in_Equity</th>\n",
       "      <th>Investment_in_Derivative</th>\n",
       "      <th>Portfolio_Balance</th>\n",
       "      <th>Revenue_Grid</th>\n",
       "    </tr>\n",
       "  </thead>\n",
       "  <tbody>\n",
       "    <tr>\n",
       "      <th>0</th>\n",
       "      <td>5466</td>\n",
       "      <td>2</td>\n",
       "      <td>31-35</td>\n",
       "      <td>Partner</td>\n",
       "      <td>Professional</td>\n",
       "      <td>Professional</td>\n",
       "      <td>Own Home</td>\n",
       "      <td>&gt;=35,000</td>\n",
       "      <td>No</td>\n",
       "      <td>No</td>\n",
       "      <td>...</td>\n",
       "      <td>8.98</td>\n",
       "      <td>55.44</td>\n",
       "      <td>7.68</td>\n",
       "      <td>Female</td>\n",
       "      <td>North West</td>\n",
       "      <td>151.55</td>\n",
       "      <td>81.79</td>\n",
       "      <td>136.02</td>\n",
       "      <td>360.37</td>\n",
       "      <td>2</td>\n",
       "    </tr>\n",
       "    <tr>\n",
       "      <th>1</th>\n",
       "      <td>9091</td>\n",
       "      <td>Zero</td>\n",
       "      <td>45-50</td>\n",
       "      <td>Partner</td>\n",
       "      <td>Secretarial/Admin</td>\n",
       "      <td>Professional</td>\n",
       "      <td>Own Home</td>\n",
       "      <td>&gt;=35,000</td>\n",
       "      <td>No</td>\n",
       "      <td>No</td>\n",
       "      <td>...</td>\n",
       "      <td>0.00</td>\n",
       "      <td>0.00</td>\n",
       "      <td>18.99</td>\n",
       "      <td>Female</td>\n",
       "      <td>North West</td>\n",
       "      <td>44.28</td>\n",
       "      <td>13.91</td>\n",
       "      <td>29.23</td>\n",
       "      <td>89.22</td>\n",
       "      <td>2</td>\n",
       "    </tr>\n",
       "    <tr>\n",
       "      <th>2</th>\n",
       "      <td>9744</td>\n",
       "      <td>1</td>\n",
       "      <td>36-40</td>\n",
       "      <td>Partner</td>\n",
       "      <td>Manual Worker</td>\n",
       "      <td>Manual Worker</td>\n",
       "      <td>Rent Privately</td>\n",
       "      <td>&lt;22,500, &gt;=20,000</td>\n",
       "      <td>Yes</td>\n",
       "      <td>Yes</td>\n",
       "      <td>...</td>\n",
       "      <td>0.00</td>\n",
       "      <td>0.00</td>\n",
       "      <td>0.00</td>\n",
       "      <td>Female</td>\n",
       "      <td>South West</td>\n",
       "      <td>8.58</td>\n",
       "      <td>1.75</td>\n",
       "      <td>4.82</td>\n",
       "      <td>14.50</td>\n",
       "      <td>2</td>\n",
       "    </tr>\n",
       "    <tr>\n",
       "      <th>3</th>\n",
       "      <td>10700</td>\n",
       "      <td>2</td>\n",
       "      <td>31-35</td>\n",
       "      <td>Partner</td>\n",
       "      <td>Manual Worker</td>\n",
       "      <td>Manual Worker</td>\n",
       "      <td>Own Home</td>\n",
       "      <td>&lt;25,000, &gt;=22,500</td>\n",
       "      <td>No</td>\n",
       "      <td>No</td>\n",
       "      <td>...</td>\n",
       "      <td>0.00</td>\n",
       "      <td>0.00</td>\n",
       "      <td>0.00</td>\n",
       "      <td>Female</td>\n",
       "      <td>Scotland</td>\n",
       "      <td>15.00</td>\n",
       "      <td>0.00</td>\n",
       "      <td>5.00</td>\n",
       "      <td>68.98</td>\n",
       "      <td>2</td>\n",
       "    </tr>\n",
       "    <tr>\n",
       "      <th>4</th>\n",
       "      <td>1987</td>\n",
       "      <td>Zero</td>\n",
       "      <td>55-60</td>\n",
       "      <td>Partner</td>\n",
       "      <td>Housewife</td>\n",
       "      <td>Professional</td>\n",
       "      <td>Own Home</td>\n",
       "      <td>&gt;=35,000</td>\n",
       "      <td>No</td>\n",
       "      <td>No</td>\n",
       "      <td>...</td>\n",
       "      <td>0.00</td>\n",
       "      <td>0.00</td>\n",
       "      <td>0.00</td>\n",
       "      <td>Female</td>\n",
       "      <td>Unknown</td>\n",
       "      <td>0.00</td>\n",
       "      <td>1.66</td>\n",
       "      <td>1.66</td>\n",
       "      <td>1.88</td>\n",
       "      <td>2</td>\n",
       "    </tr>\n",
       "  </tbody>\n",
       "</table>\n",
       "<p>5 rows × 32 columns</p>\n",
       "</div>"
      ],
      "text/plain": [
       "   REF_NO children age_band   status         occupation occupation_partner  \\\n",
       "0    5466        2    31-35  Partner       Professional       Professional   \n",
       "1    9091     Zero    45-50  Partner  Secretarial/Admin       Professional   \n",
       "2    9744        1    36-40  Partner      Manual Worker      Manual Worker   \n",
       "3   10700        2    31-35  Partner      Manual Worker      Manual Worker   \n",
       "4    1987     Zero    55-60  Partner          Housewife       Professional   \n",
       "\n",
       "      home_status      family_income self_employed self_employed_partner  ...  \\\n",
       "0        Own Home           >=35,000            No                    No  ...   \n",
       "1        Own Home           >=35,000            No                    No  ...   \n",
       "2  Rent Privately  <22,500, >=20,000           Yes                   Yes  ...   \n",
       "3        Own Home  <25,000, >=22,500            No                    No  ...   \n",
       "4        Own Home           >=35,000            No                    No  ...   \n",
       "\n",
       "   Investment_Tax_Saving_Bond Home_Loan Online_Purchase_Amount  gender  \\\n",
       "0                        8.98     55.44                   7.68  Female   \n",
       "1                        0.00      0.00                  18.99  Female   \n",
       "2                        0.00      0.00                   0.00  Female   \n",
       "3                        0.00      0.00                   0.00  Female   \n",
       "4                        0.00      0.00                   0.00  Female   \n",
       "\n",
       "       region  Investment_in_Commudity  Investment_in_Equity  \\\n",
       "0  North West                   151.55                 81.79   \n",
       "1  North West                    44.28                 13.91   \n",
       "2  South West                     8.58                  1.75   \n",
       "3    Scotland                    15.00                  0.00   \n",
       "4     Unknown                     0.00                  1.66   \n",
       "\n",
       "   Investment_in_Derivative  Portfolio_Balance  Revenue_Grid  \n",
       "0                    136.02             360.37             2  \n",
       "1                     29.23              89.22             2  \n",
       "2                      4.82              14.50             2  \n",
       "3                      5.00              68.98             2  \n",
       "4                      1.66               1.88             2  \n",
       "\n",
       "[5 rows x 32 columns]"
      ]
     },
     "execution_count": 3,
     "metadata": {},
     "output_type": "execute_result"
    }
   ],
   "source": [
    "data=pd.read_csv('existing_base_train.csv')\n",
    "data.head()"
   ]
  },
  {
   "cell_type": "code",
   "execution_count": 4,
   "id": "7513ccdd",
   "metadata": {},
   "outputs": [
    {
     "data": {
      "text/html": [
       "<div>\n",
       "<style scoped>\n",
       "    .dataframe tbody tr th:only-of-type {\n",
       "        vertical-align: middle;\n",
       "    }\n",
       "\n",
       "    .dataframe tbody tr th {\n",
       "        vertical-align: top;\n",
       "    }\n",
       "\n",
       "    .dataframe thead th {\n",
       "        text-align: right;\n",
       "    }\n",
       "</style>\n",
       "<table border=\"1\" class=\"dataframe\">\n",
       "  <thead>\n",
       "    <tr style=\"text-align: right;\">\n",
       "      <th></th>\n",
       "      <th>REF_NO</th>\n",
       "      <th>year_last_moved</th>\n",
       "      <th>Average_Credit_Card_Transaction</th>\n",
       "      <th>Balance_Transfer</th>\n",
       "      <th>Term_Deposit</th>\n",
       "      <th>Life_Insurance</th>\n",
       "      <th>Medical_Insurance</th>\n",
       "      <th>Average_A/C_Balance</th>\n",
       "      <th>Personal_Loan</th>\n",
       "      <th>Investment_in_Mutual_Fund</th>\n",
       "      <th>Investment_Tax_Saving_Bond</th>\n",
       "      <th>Home_Loan</th>\n",
       "      <th>Online_Purchase_Amount</th>\n",
       "      <th>Investment_in_Commudity</th>\n",
       "      <th>Investment_in_Equity</th>\n",
       "      <th>Investment_in_Derivative</th>\n",
       "      <th>Portfolio_Balance</th>\n",
       "      <th>Revenue_Grid</th>\n",
       "    </tr>\n",
       "  </thead>\n",
       "  <tbody>\n",
       "    <tr>\n",
       "      <th>count</th>\n",
       "      <td>8124.000000</td>\n",
       "      <td>8124.000000</td>\n",
       "      <td>8124.000000</td>\n",
       "      <td>8124.000000</td>\n",
       "      <td>8124.000000</td>\n",
       "      <td>8124.000000</td>\n",
       "      <td>8124.000000</td>\n",
       "      <td>8124.000000</td>\n",
       "      <td>8124.00000</td>\n",
       "      <td>8124.000000</td>\n",
       "      <td>8124.000000</td>\n",
       "      <td>8124.000000</td>\n",
       "      <td>8124.000000</td>\n",
       "      <td>8124.000000</td>\n",
       "      <td>8124.000000</td>\n",
       "      <td>8124.000000</td>\n",
       "      <td>8124.000000</td>\n",
       "      <td>8124.000000</td>\n",
       "    </tr>\n",
       "    <tr>\n",
       "      <th>mean</th>\n",
       "      <td>5797.343304</td>\n",
       "      <td>1967.876908</td>\n",
       "      <td>23.251094</td>\n",
       "      <td>46.082922</td>\n",
       "      <td>27.284649</td>\n",
       "      <td>65.317939</td>\n",
       "      <td>18.826195</td>\n",
       "      <td>31.838023</td>\n",
       "      <td>25.41583</td>\n",
       "      <td>41.723628</td>\n",
       "      <td>6.057246</td>\n",
       "      <td>4.416914</td>\n",
       "      <td>19.198658</td>\n",
       "      <td>36.152749</td>\n",
       "      <td>21.442475</td>\n",
       "      <td>31.530652</td>\n",
       "      <td>89.353368</td>\n",
       "      <td>1.894141</td>\n",
       "    </tr>\n",
       "    <tr>\n",
       "      <th>std</th>\n",
       "      <td>3322.497568</td>\n",
       "      <td>182.563785</td>\n",
       "      <td>51.147496</td>\n",
       "      <td>79.084692</td>\n",
       "      <td>54.133537</td>\n",
       "      <td>95.762451</td>\n",
       "      <td>32.022332</td>\n",
       "      <td>45.249440</td>\n",
       "      <td>85.13015</td>\n",
       "      <td>64.416023</td>\n",
       "      <td>12.673374</td>\n",
       "      <td>9.945747</td>\n",
       "      <td>92.343126</td>\n",
       "      <td>42.474953</td>\n",
       "      <td>32.261660</td>\n",
       "      <td>39.480660</td>\n",
       "      <td>108.303538</td>\n",
       "      <td>0.307676</td>\n",
       "    </tr>\n",
       "    <tr>\n",
       "      <th>min</th>\n",
       "      <td>2.000000</td>\n",
       "      <td>0.000000</td>\n",
       "      <td>0.000000</td>\n",
       "      <td>0.000000</td>\n",
       "      <td>0.000000</td>\n",
       "      <td>0.000000</td>\n",
       "      <td>0.000000</td>\n",
       "      <td>0.000000</td>\n",
       "      <td>0.00000</td>\n",
       "      <td>0.000000</td>\n",
       "      <td>0.000000</td>\n",
       "      <td>0.000000</td>\n",
       "      <td>0.000000</td>\n",
       "      <td>0.000000</td>\n",
       "      <td>0.000000</td>\n",
       "      <td>0.000000</td>\n",
       "      <td>-78.430000</td>\n",
       "      <td>1.000000</td>\n",
       "    </tr>\n",
       "    <tr>\n",
       "      <th>25%</th>\n",
       "      <td>2924.750000</td>\n",
       "      <td>1978.000000</td>\n",
       "      <td>0.000000</td>\n",
       "      <td>0.000000</td>\n",
       "      <td>0.000000</td>\n",
       "      <td>0.000000</td>\n",
       "      <td>0.000000</td>\n",
       "      <td>0.000000</td>\n",
       "      <td>0.00000</td>\n",
       "      <td>0.000000</td>\n",
       "      <td>0.000000</td>\n",
       "      <td>0.000000</td>\n",
       "      <td>0.000000</td>\n",
       "      <td>8.282500</td>\n",
       "      <td>4.660000</td>\n",
       "      <td>8.740000</td>\n",
       "      <td>26.277500</td>\n",
       "      <td>2.000000</td>\n",
       "    </tr>\n",
       "    <tr>\n",
       "      <th>50%</th>\n",
       "      <td>5811.500000</td>\n",
       "      <td>1988.000000</td>\n",
       "      <td>0.000000</td>\n",
       "      <td>17.485000</td>\n",
       "      <td>0.000000</td>\n",
       "      <td>31.475000</td>\n",
       "      <td>0.010000</td>\n",
       "      <td>14.980000</td>\n",
       "      <td>0.00000</td>\n",
       "      <td>23.480000</td>\n",
       "      <td>0.000000</td>\n",
       "      <td>0.000000</td>\n",
       "      <td>0.000000</td>\n",
       "      <td>23.590000</td>\n",
       "      <td>12.820000</td>\n",
       "      <td>21.140000</td>\n",
       "      <td>65.560000</td>\n",
       "      <td>2.000000</td>\n",
       "    </tr>\n",
       "    <tr>\n",
       "      <th>75%</th>\n",
       "      <td>8681.500000</td>\n",
       "      <td>1994.000000</td>\n",
       "      <td>23.480000</td>\n",
       "      <td>64.990000</td>\n",
       "      <td>34.490000</td>\n",
       "      <td>92.887500</td>\n",
       "      <td>26.970000</td>\n",
       "      <td>45.922500</td>\n",
       "      <td>20.82750</td>\n",
       "      <td>59.440000</td>\n",
       "      <td>5.490000</td>\n",
       "      <td>4.490000</td>\n",
       "      <td>7.480000</td>\n",
       "      <td>49.795000</td>\n",
       "      <td>27.972500</td>\n",
       "      <td>42.392500</td>\n",
       "      <td>123.970000</td>\n",
       "      <td>2.000000</td>\n",
       "    </tr>\n",
       "    <tr>\n",
       "      <th>max</th>\n",
       "      <td>11518.000000</td>\n",
       "      <td>1999.000000</td>\n",
       "      <td>662.260000</td>\n",
       "      <td>2951.760000</td>\n",
       "      <td>784.820000</td>\n",
       "      <td>2930.410000</td>\n",
       "      <td>591.040000</td>\n",
       "      <td>626.240000</td>\n",
       "      <td>4905.93000</td>\n",
       "      <td>2561.270000</td>\n",
       "      <td>156.870000</td>\n",
       "      <td>162.350000</td>\n",
       "      <td>4306.420000</td>\n",
       "      <td>1231.090000</td>\n",
       "      <td>1279.100000</td>\n",
       "      <td>1771.160000</td>\n",
       "      <td>4283.560000</td>\n",
       "      <td>2.000000</td>\n",
       "    </tr>\n",
       "  </tbody>\n",
       "</table>\n",
       "</div>"
      ],
      "text/plain": [
       "             REF_NO  year_last_moved  Average_Credit_Card_Transaction  \\\n",
       "count   8124.000000      8124.000000                      8124.000000   \n",
       "mean    5797.343304      1967.876908                        23.251094   \n",
       "std     3322.497568       182.563785                        51.147496   \n",
       "min        2.000000         0.000000                         0.000000   \n",
       "25%     2924.750000      1978.000000                         0.000000   \n",
       "50%     5811.500000      1988.000000                         0.000000   \n",
       "75%     8681.500000      1994.000000                        23.480000   \n",
       "max    11518.000000      1999.000000                       662.260000   \n",
       "\n",
       "       Balance_Transfer  Term_Deposit  Life_Insurance  Medical_Insurance  \\\n",
       "count       8124.000000   8124.000000     8124.000000        8124.000000   \n",
       "mean          46.082922     27.284649       65.317939          18.826195   \n",
       "std           79.084692     54.133537       95.762451          32.022332   \n",
       "min            0.000000      0.000000        0.000000           0.000000   \n",
       "25%            0.000000      0.000000        0.000000           0.000000   \n",
       "50%           17.485000      0.000000       31.475000           0.010000   \n",
       "75%           64.990000     34.490000       92.887500          26.970000   \n",
       "max         2951.760000    784.820000     2930.410000         591.040000   \n",
       "\n",
       "       Average_A/C_Balance  Personal_Loan  Investment_in_Mutual_Fund  \\\n",
       "count          8124.000000     8124.00000                8124.000000   \n",
       "mean             31.838023       25.41583                  41.723628   \n",
       "std              45.249440       85.13015                  64.416023   \n",
       "min               0.000000        0.00000                   0.000000   \n",
       "25%               0.000000        0.00000                   0.000000   \n",
       "50%              14.980000        0.00000                  23.480000   \n",
       "75%              45.922500       20.82750                  59.440000   \n",
       "max             626.240000     4905.93000                2561.270000   \n",
       "\n",
       "       Investment_Tax_Saving_Bond    Home_Loan  Online_Purchase_Amount  \\\n",
       "count                 8124.000000  8124.000000             8124.000000   \n",
       "mean                     6.057246     4.416914               19.198658   \n",
       "std                     12.673374     9.945747               92.343126   \n",
       "min                      0.000000     0.000000                0.000000   \n",
       "25%                      0.000000     0.000000                0.000000   \n",
       "50%                      0.000000     0.000000                0.000000   \n",
       "75%                      5.490000     4.490000                7.480000   \n",
       "max                    156.870000   162.350000             4306.420000   \n",
       "\n",
       "       Investment_in_Commudity  Investment_in_Equity  \\\n",
       "count              8124.000000           8124.000000   \n",
       "mean                 36.152749             21.442475   \n",
       "std                  42.474953             32.261660   \n",
       "min                   0.000000              0.000000   \n",
       "25%                   8.282500              4.660000   \n",
       "50%                  23.590000             12.820000   \n",
       "75%                  49.795000             27.972500   \n",
       "max                1231.090000           1279.100000   \n",
       "\n",
       "       Investment_in_Derivative  Portfolio_Balance  Revenue_Grid  \n",
       "count               8124.000000        8124.000000   8124.000000  \n",
       "mean                  31.530652          89.353368      1.894141  \n",
       "std                   39.480660         108.303538      0.307676  \n",
       "min                    0.000000         -78.430000      1.000000  \n",
       "25%                    8.740000          26.277500      2.000000  \n",
       "50%                   21.140000          65.560000      2.000000  \n",
       "75%                   42.392500         123.970000      2.000000  \n",
       "max                 1771.160000        4283.560000      2.000000  "
      ]
     },
     "execution_count": 4,
     "metadata": {},
     "output_type": "execute_result"
    }
   ],
   "source": [
    "data.describe()"
   ]
  },
  {
   "cell_type": "code",
   "execution_count": 5,
   "id": "06384e47",
   "metadata": {},
   "outputs": [
    {
     "name": "stdout",
     "output_type": "stream",
     "text": [
      "<class 'pandas.core.frame.DataFrame'>\n",
      "RangeIndex: 8124 entries, 0 to 8123\n",
      "Data columns (total 32 columns):\n",
      " #   Column                           Non-Null Count  Dtype  \n",
      "---  ------                           --------------  -----  \n",
      " 0   REF_NO                           8124 non-null   int64  \n",
      " 1   children                         8124 non-null   object \n",
      " 2   age_band                         8124 non-null   object \n",
      " 3   status                           8124 non-null   object \n",
      " 4   occupation                       8124 non-null   object \n",
      " 5   occupation_partner               8124 non-null   object \n",
      " 6   home_status                      8124 non-null   object \n",
      " 7   family_income                    8124 non-null   object \n",
      " 8   self_employed                    8124 non-null   object \n",
      " 9   self_employed_partner            8124 non-null   object \n",
      " 10  year_last_moved                  8124 non-null   int64  \n",
      " 11  TVarea                           8124 non-null   object \n",
      " 12  post_code                        8124 non-null   object \n",
      " 13  post_area                        8124 non-null   object \n",
      " 14  Average_Credit_Card_Transaction  8124 non-null   float64\n",
      " 15  Balance_Transfer                 8124 non-null   float64\n",
      " 16  Term_Deposit                     8124 non-null   float64\n",
      " 17  Life_Insurance                   8124 non-null   float64\n",
      " 18  Medical_Insurance                8124 non-null   float64\n",
      " 19  Average_A/C_Balance              8124 non-null   float64\n",
      " 20  Personal_Loan                    8124 non-null   float64\n",
      " 21  Investment_in_Mutual_Fund        8124 non-null   float64\n",
      " 22  Investment_Tax_Saving_Bond       8124 non-null   float64\n",
      " 23  Home_Loan                        8124 non-null   float64\n",
      " 24  Online_Purchase_Amount           8124 non-null   float64\n",
      " 25  gender                           8124 non-null   object \n",
      " 26  region                           8124 non-null   object \n",
      " 27  Investment_in_Commudity          8124 non-null   float64\n",
      " 28  Investment_in_Equity             8124 non-null   float64\n",
      " 29  Investment_in_Derivative         8124 non-null   float64\n",
      " 30  Portfolio_Balance                8124 non-null   float64\n",
      " 31  Revenue_Grid                     8124 non-null   int64  \n",
      "dtypes: float64(15), int64(3), object(14)\n",
      "memory usage: 2.0+ MB\n"
     ]
    }
   ],
   "source": [
    "data.info()"
   ]
  },
  {
   "cell_type": "code",
   "execution_count": 6,
   "id": "b1fc9fa8",
   "metadata": {},
   "outputs": [
    {
     "data": {
      "text/plain": [
       "Index(['REF_NO', 'children', 'age_band', 'status', 'occupation',\n",
       "       'occupation_partner', 'home_status', 'family_income', 'self_employed',\n",
       "       'self_employed_partner', 'year_last_moved', 'TVarea', 'post_code',\n",
       "       'post_area', 'Average_Credit_Card_Transaction', 'Balance_Transfer',\n",
       "       'Term_Deposit', 'Life_Insurance', 'Medical_Insurance',\n",
       "       'Average_A/C_Balance', 'Personal_Loan', 'Investment_in_Mutual_Fund',\n",
       "       'Investment_Tax_Saving_Bond', 'Home_Loan', 'Online_Purchase_Amount',\n",
       "       'gender', 'region', 'Investment_in_Commudity', 'Investment_in_Equity',\n",
       "       'Investment_in_Derivative', 'Portfolio_Balance', 'Revenue_Grid'],\n",
       "      dtype='object')"
      ]
     },
     "execution_count": 6,
     "metadata": {},
     "output_type": "execute_result"
    }
   ],
   "source": [
    "data.columns"
   ]
  },
  {
   "cell_type": "code",
   "execution_count": 7,
   "id": "26d9d66d",
   "metadata": {},
   "outputs": [],
   "source": [
    "obj_col=[]\n",
    "for col in data:\n",
    "    if data[col].dtype=='object':\n",
    "        obj_col.append(col)"
   ]
  },
  {
   "cell_type": "code",
   "execution_count": 8,
   "id": "79e5ede5",
   "metadata": {},
   "outputs": [
    {
     "data": {
      "text/plain": [
       "dtype('O')"
      ]
     },
     "execution_count": 8,
     "metadata": {},
     "output_type": "execute_result"
    }
   ],
   "source": [
    "data.columns.dtype"
   ]
  },
  {
   "cell_type": "code",
   "execution_count": 9,
   "id": "528e514f",
   "metadata": {},
   "outputs": [
    {
     "data": {
      "text/plain": [
       "['children',\n",
       " 'age_band',\n",
       " 'status',\n",
       " 'occupation',\n",
       " 'occupation_partner',\n",
       " 'home_status',\n",
       " 'family_income',\n",
       " 'self_employed',\n",
       " 'self_employed_partner',\n",
       " 'TVarea',\n",
       " 'post_code',\n",
       " 'post_area',\n",
       " 'gender',\n",
       " 'region']"
      ]
     },
     "execution_count": 9,
     "metadata": {},
     "output_type": "execute_result"
    }
   ],
   "source": [
    "obj_col"
   ]
  },
  {
   "cell_type": "code",
   "execution_count": 10,
   "id": "5a89ac46",
   "metadata": {},
   "outputs": [],
   "source": [
    "Num_col=[]\n",
    "for col in data:\n",
    "    if col not in obj_col:\n",
    "        Num_col.append(col)"
   ]
  },
  {
   "cell_type": "markdown",
   "id": "2b5df59e",
   "metadata": {},
   "source": [
    "Num_col"
   ]
  },
  {
   "cell_type": "code",
   "execution_count": 11,
   "id": "1692a524",
   "metadata": {},
   "outputs": [
    {
     "data": {
      "text/plain": [
       "['REF_NO',\n",
       " 'year_last_moved',\n",
       " 'Average_Credit_Card_Transaction',\n",
       " 'Balance_Transfer',\n",
       " 'Term_Deposit',\n",
       " 'Life_Insurance',\n",
       " 'Medical_Insurance',\n",
       " 'Average_A/C_Balance',\n",
       " 'Personal_Loan',\n",
       " 'Investment_in_Mutual_Fund',\n",
       " 'Investment_Tax_Saving_Bond',\n",
       " 'Home_Loan',\n",
       " 'Online_Purchase_Amount',\n",
       " 'Investment_in_Commudity',\n",
       " 'Investment_in_Equity',\n",
       " 'Investment_in_Derivative',\n",
       " 'Portfolio_Balance',\n",
       " 'Revenue_Grid']"
      ]
     },
     "execution_count": 11,
     "metadata": {},
     "output_type": "execute_result"
    }
   ],
   "source": [
    "Num_col"
   ]
  },
  {
   "cell_type": "code",
   "execution_count": 12,
   "id": "6f6100d8",
   "metadata": {
    "scrolled": true
   },
   "outputs": [
    {
     "name": "stdout",
     "output_type": "stream",
     "text": [
      "Column : children\n",
      "['2' 'Zero' '1' '3' '4+']\n",
      "\n",
      "\n",
      "Column : age_band\n",
      "['31-35' '45-50' '36-40' '55-60' '61-65' '65-70' '41-45' '51-55' '26-30'\n",
      " '22-25' '71+' 'Unknown' '18-21']\n",
      "\n",
      "\n",
      "Column : status\n",
      "['Partner' 'Divorced/Separated' 'Single/Never Married' 'Widowed' 'Unknown']\n",
      "\n",
      "\n",
      "Column : occupation\n",
      "['Professional' 'Secretarial/Admin' 'Manual Worker' 'Housewife' 'Retired'\n",
      " 'Other' 'Unknown' 'Business Manager' 'Student']\n",
      "\n",
      "\n",
      "Column : occupation_partner\n",
      "['Professional' 'Manual Worker' 'Business Manager' 'Secretarial/Admin'\n",
      " 'Retired' 'Housewife' 'Unknown' 'Other' 'Student']\n",
      "\n",
      "\n",
      "Column : home_status\n",
      "['Own Home' 'Rent Privately' 'Rent from Council/HA' 'Live in Parental Hom'\n",
      " 'Unclassified']\n",
      "\n",
      "\n",
      "Column : family_income\n",
      "['>=35,000' '<22,500, >=20,000' '<25,000, >=22,500' '<30,000, >=27,500'\n",
      " '<20,000, >=17,500' '<27,500, >=25,000' '< 4,000' '<15,000, >=12,500'\n",
      " '<17,500, >=15,000' '< 8,000, >= 4,000' '<12,500, >=10,000'\n",
      " '<10,000, >= 8,000' 'Unknown']\n",
      "\n",
      "\n",
      "Column : self_employed\n",
      "['No' 'Yes']\n",
      "\n",
      "\n",
      "Column : self_employed_partner\n",
      "['No' 'Yes']\n",
      "\n",
      "\n",
      "Column : TVarea\n",
      "['Meridian' 'HTV' 'Scottish TV' 'Yorkshire' 'Ulster' 'Central' 'Granada'\n",
      " 'Unknown' 'Carlton' 'Border' 'Tyne Tees' 'Anglia' 'TV South West'\n",
      " 'Grampian']\n",
      "\n",
      "\n",
      "Column : post_code\n",
      "['M51 0GU' 'L40 2AG' 'TA19 9PT' ... 'BT28 1DX' 'CT10 2JF' 'TS16 0HG']\n",
      "\n",
      "\n",
      "Column : post_area\n",
      "['M51' 'L40' 'TA19' ... 'NE20' 'IV32' 'SS4']\n",
      "\n",
      "\n",
      "Column : gender\n",
      "['Female' 'Male' 'Unknown']\n",
      "\n",
      "\n",
      "Column : region\n",
      "['North West' 'South West' 'Scotland' 'Unknown' 'Northern Ireland'\n",
      " 'West Midlands' 'South East' 'East Midlands' 'North' 'East Anglia'\n",
      " 'Wales' 'Isle of Man' 'Channel Islands']\n",
      "\n",
      "\n"
     ]
    }
   ],
   "source": [
    "for i in obj_col:\n",
    "    print('Column :',i)\n",
    "    print(data[i].unique())\n",
    "    print('\\n')"
   ]
  },
  {
   "cell_type": "code",
   "execution_count": 13,
   "id": "2fc8a7c6",
   "metadata": {},
   "outputs": [],
   "source": [
    "data['children']=data['children'].replace('Zero',0)"
   ]
  },
  {
   "cell_type": "code",
   "execution_count": 14,
   "id": "94a6b16f",
   "metadata": {},
   "outputs": [],
   "source": [
    "data['family_income']=data['family_income'].replace(['>=35,000','<22,500, >=20,000','<25,000, >=22,500','<30,000, >=27,500','<20,000, >=17,500','<27,500, >=25,000','< 4,000','<15,000, >=12,500','<17,500, >=15,000','< 8,000, >= 4,000','<12,500, >=10,000','<10,000, >= 8,000'],\n",
    "                                                    [35000,22500,25000,30000,20000,27500,4000,15000,17500,8000,12500,10000])"
   ]
  },
  {
   "cell_type": "code",
   "execution_count": 15,
   "id": "91bd93aa",
   "metadata": {},
   "outputs": [],
   "source": [
    "family=data.loc[data['family_income']!='Unknown']"
   ]
  },
  {
   "cell_type": "code",
   "execution_count": 16,
   "id": "1d0bffde",
   "metadata": {},
   "outputs": [
    {
     "data": {
      "text/plain": [
       "25000.0"
      ]
     },
     "execution_count": 16,
     "metadata": {},
     "output_type": "execute_result"
    }
   ],
   "source": [
    "family['family_income'].median()"
   ]
  },
  {
   "cell_type": "code",
   "execution_count": 18,
   "id": "51560d07",
   "metadata": {},
   "outputs": [
    {
     "data": {
      "text/plain": [
       "array([35000, 22500, 25000, 30000, 20000, 27500,  4000, 15000, 17500,\n",
       "        8000, 12500, 10000], dtype=int64)"
      ]
     },
     "execution_count": 18,
     "metadata": {},
     "output_type": "execute_result"
    }
   ],
   "source": [
    "data['family_income']=data['family_income'].replace(['Unknown'],25000)\n",
    "data['family_income'].unique()\n",
    "data['self_employed']=data['self_employed'].replace(['No','Yes'],[0,1])\n",
    "data['self_employed_partner']=data['self_employed_partner'].replace(['No','Yes'],[0,1])"
   ]
  },
  {
   "cell_type": "code",
   "execution_count": 20,
   "id": "f50f4580",
   "metadata": {},
   "outputs": [],
   "source": [
    "objcol=[]\n",
    "for col in data:\n",
    "    if data[col].dtype=='object':\n",
    "        objcol.append(col)"
   ]
  },
  {
   "cell_type": "code",
   "execution_count": 21,
   "id": "065f259c",
   "metadata": {},
   "outputs": [
    {
     "data": {
      "text/plain": [
       "['children',\n",
       " 'age_band',\n",
       " 'status',\n",
       " 'occupation',\n",
       " 'occupation_partner',\n",
       " 'home_status',\n",
       " 'TVarea',\n",
       " 'post_code',\n",
       " 'post_area',\n",
       " 'gender',\n",
       " 'region']"
      ]
     },
     "execution_count": 21,
     "metadata": {},
     "output_type": "execute_result"
    }
   ],
   "source": [
    "objcol"
   ]
  },
  {
   "cell_type": "code",
   "execution_count": 22,
   "id": "a62cf471",
   "metadata": {},
   "outputs": [],
   "source": [
    "from category_encoders import HashingEncoder"
   ]
  },
  {
   "cell_type": "code",
   "execution_count": 23,
   "id": "a5253123",
   "metadata": {},
   "outputs": [],
   "source": [
    "encoder=HashingEncoder(cols=objcol,n_components=11)\n",
    "data1=encoder.fit_transform(data)"
   ]
  },
  {
   "cell_type": "code",
   "execution_count": 24,
   "id": "c949a7c6",
   "metadata": {},
   "outputs": [
    {
     "data": {
      "text/plain": [
       "Index(['col_0', 'col_1', 'col_2', 'col_3', 'col_4', 'col_5', 'col_6', 'col_7',\n",
       "       'col_8', 'col_9', 'col_10', 'REF_NO', 'family_income', 'self_employed',\n",
       "       'self_employed_partner', 'year_last_moved',\n",
       "       'Average_Credit_Card_Transaction', 'Balance_Transfer', 'Term_Deposit',\n",
       "       'Life_Insurance', 'Medical_Insurance', 'Average_A/C_Balance',\n",
       "       'Personal_Loan', 'Investment_in_Mutual_Fund',\n",
       "       'Investment_Tax_Saving_Bond', 'Home_Loan', 'Online_Purchase_Amount',\n",
       "       'Investment_in_Commudity', 'Investment_in_Equity',\n",
       "       'Investment_in_Derivative', 'Portfolio_Balance', 'Revenue_Grid'],\n",
       "      dtype='object')"
      ]
     },
     "execution_count": 24,
     "metadata": {},
     "output_type": "execute_result"
    }
   ],
   "source": [
    "data1.columns"
   ]
  },
  {
   "cell_type": "code",
   "execution_count": 25,
   "id": "d4a0c9e7",
   "metadata": {},
   "outputs": [
    {
     "name": "stdout",
     "output_type": "stream",
     "text": [
      "Column : REF_NO\n",
      "<bound method Series.unique of 0        5466\n",
      "1        9091\n",
      "2        9744\n",
      "3       10700\n",
      "4        1987\n",
      "        ...  \n",
      "8119     6516\n",
      "8120     5897\n",
      "8121     6130\n",
      "8122      980\n",
      "8123     8267\n",
      "Name: REF_NO, Length: 8124, dtype: int64>\n",
      "\n",
      "\n",
      "Column : year_last_moved\n",
      "<bound method Series.unique of 0       1981\n",
      "1       1997\n",
      "2       1996\n",
      "3       1990\n",
      "4       1989\n",
      "        ... \n",
      "8119    1981\n",
      "8120    1960\n",
      "8121    1987\n",
      "8122    1985\n",
      "8123    1974\n",
      "Name: year_last_moved, Length: 8124, dtype: int64>\n",
      "\n",
      "\n",
      "Column : Average_Credit_Card_Transaction\n",
      "<bound method Series.unique of 0       26.98\n",
      "1       35.98\n",
      "2        0.00\n",
      "3       44.99\n",
      "4        0.00\n",
      "        ...  \n",
      "8119     0.00\n",
      "8120     0.00\n",
      "8121     0.00\n",
      "8122     0.00\n",
      "8123    73.96\n",
      "Name: Average_Credit_Card_Transaction, Length: 8124, dtype: float64>\n",
      "\n",
      "\n",
      "Column : Balance_Transfer\n",
      "<bound method Series.unique of 0        29.99\n",
      "1        74.48\n",
      "2        24.46\n",
      "3         0.00\n",
      "4         0.00\n",
      "         ...  \n",
      "8119      0.00\n",
      "8120      0.00\n",
      "8121    107.42\n",
      "8122     59.48\n",
      "8123     74.47\n",
      "Name: Balance_Transfer, Length: 8124, dtype: float64>\n",
      "\n",
      "\n",
      "Column : Term_Deposit\n",
      "<bound method Series.unique of 0       312.25\n",
      "1         0.00\n",
      "2         0.00\n",
      "3         0.00\n",
      "4         0.00\n",
      "         ...  \n",
      "8119      0.00\n",
      "8120      9.49\n",
      "8121      0.00\n",
      "8122      0.00\n",
      "8123     42.98\n",
      "Name: Term_Deposit, Length: 8124, dtype: float64>\n",
      "\n",
      "\n",
      "Column : Life_Insurance\n",
      "<bound method Series.unique of 0       299.79\n",
      "1        99.96\n",
      "2        18.44\n",
      "3         0.00\n",
      "4         0.00\n",
      "         ...  \n",
      "8119      0.00\n",
      "8120      0.00\n",
      "8121     23.42\n",
      "8122      0.00\n",
      "8123    127.45\n",
      "Name: Life_Insurance, Length: 8124, dtype: float64>\n",
      "\n",
      "\n",
      "Column : Medical_Insurance\n",
      "<bound method Series.unique of 0       88.72\n",
      "1       10.99\n",
      "2        0.00\n",
      "3       29.99\n",
      "4        0.00\n",
      "        ...  \n",
      "8119     0.00\n",
      "8120     0.00\n",
      "8121    23.99\n",
      "8122     0.00\n",
      "8123    13.49\n",
      "Name: Medical_Insurance, Length: 8124, dtype: float64>\n",
      "\n",
      "\n",
      "Column : Average_A/C_Balance\n",
      "<bound method Series.unique of 0       108.85\n",
      "1        48.45\n",
      "2         0.00\n",
      "3         0.00\n",
      "4         0.00\n",
      "         ...  \n",
      "8119      0.00\n",
      "8120      2.99\n",
      "8121     38.95\n",
      "8122      0.00\n",
      "8123     51.46\n",
      "Name: Average_A/C_Balance, Length: 8124, dtype: float64>\n",
      "\n",
      "\n",
      "Column : Personal_Loan\n",
      "<bound method Series.unique of 0       175.43\n",
      "1        15.99\n",
      "2         0.02\n",
      "3         0.00\n",
      "4         0.00\n",
      "         ...  \n",
      "8119      0.00\n",
      "8120      0.00\n",
      "8121      0.00\n",
      "8122      0.00\n",
      "8123     95.90\n",
      "Name: Personal_Loan, Length: 8124, dtype: float64>\n",
      "\n",
      "\n",
      "Column : Investment_in_Mutual_Fund\n",
      "<bound method Series.unique of 0       134.35\n",
      "1         0.00\n",
      "2        10.46\n",
      "3         0.00\n",
      "4         9.98\n",
      "         ...  \n",
      "8119      0.00\n",
      "8120     46.76\n",
      "8121    101.37\n",
      "8122      0.00\n",
      "8123     58.44\n",
      "Name: Investment_in_Mutual_Fund, Length: 8124, dtype: float64>\n",
      "\n",
      "\n",
      "Column : Investment_Tax_Saving_Bond\n",
      "<bound method Series.unique of 0        8.98\n",
      "1        0.00\n",
      "2        0.00\n",
      "3        0.00\n",
      "4        0.00\n",
      "        ...  \n",
      "8119     0.00\n",
      "8120     0.00\n",
      "8121     1.00\n",
      "8122     0.00\n",
      "8123    15.47\n",
      "Name: Investment_Tax_Saving_Bond, Length: 8124, dtype: float64>\n",
      "\n",
      "\n",
      "Column : Home_Loan\n",
      "<bound method Series.unique of 0       55.44\n",
      "1        0.00\n",
      "2        0.00\n",
      "3        0.00\n",
      "4        0.00\n",
      "        ...  \n",
      "8119     0.00\n",
      "8120     0.00\n",
      "8121     3.72\n",
      "8122     0.00\n",
      "8123     4.49\n",
      "Name: Home_Loan, Length: 8124, dtype: float64>\n",
      "\n",
      "\n",
      "Column : Online_Purchase_Amount\n",
      "<bound method Series.unique of 0        7.68\n",
      "1       18.99\n",
      "2        0.00\n",
      "3        0.00\n",
      "4        0.00\n",
      "        ...  \n",
      "8119     0.00\n",
      "8120     0.00\n",
      "8121     0.00\n",
      "8122     0.00\n",
      "8123     3.99\n",
      "Name: Online_Purchase_Amount, Length: 8124, dtype: float64>\n",
      "\n",
      "\n",
      "Column : Investment_in_Commudity\n",
      "<bound method Series.unique of 0       151.55\n",
      "1        44.28\n",
      "2         8.58\n",
      "3        15.00\n",
      "4         0.00\n",
      "         ...  \n",
      "8119      0.00\n",
      "8120      1.90\n",
      "8121     30.97\n",
      "8122     11.90\n",
      "8123     66.47\n",
      "Name: Investment_in_Commudity, Length: 8124, dtype: float64>\n",
      "\n",
      "\n",
      "Column : Investment_in_Equity\n",
      "<bound method Series.unique of 0       81.79\n",
      "1       13.91\n",
      "2        1.75\n",
      "3        0.00\n",
      "4        1.66\n",
      "        ...  \n",
      "8119     0.00\n",
      "8120     8.29\n",
      "8121    24.17\n",
      "8122     0.00\n",
      "8123    38.29\n",
      "Name: Investment_in_Equity, Length: 8124, dtype: float64>\n",
      "\n",
      "\n",
      "Column : Investment_in_Derivative\n",
      "<bound method Series.unique of 0       136.02\n",
      "1        29.23\n",
      "2         4.82\n",
      "3         5.00\n",
      "4         1.66\n",
      "         ...  \n",
      "8119      0.00\n",
      "8120      8.29\n",
      "8121     31.46\n",
      "8122      0.00\n",
      "8123     60.37\n",
      "Name: Investment_in_Derivative, Length: 8124, dtype: float64>\n",
      "\n",
      "\n",
      "Column : Portfolio_Balance\n",
      "<bound method Series.unique of 0       360.37\n",
      "1        89.22\n",
      "2        14.50\n",
      "3        68.98\n",
      "4         1.88\n",
      "         ...  \n",
      "8119     15.23\n",
      "8120     68.42\n",
      "8121    106.06\n",
      "8122     -9.19\n",
      "8123    160.79\n",
      "Name: Portfolio_Balance, Length: 8124, dtype: float64>\n",
      "\n",
      "\n",
      "Column : Revenue_Grid\n",
      "<bound method Series.unique of 0       2\n",
      "1       2\n",
      "2       2\n",
      "3       2\n",
      "4       2\n",
      "       ..\n",
      "8119    2\n",
      "8120    2\n",
      "8121    2\n",
      "8122    2\n",
      "8123    2\n",
      "Name: Revenue_Grid, Length: 8124, dtype: int64>\n",
      "\n",
      "\n"
     ]
    }
   ],
   "source": [
    "for col in Num_col:\n",
    "    print('Column :',col)\n",
    "    print(data1[col].unique)\n",
    "    print('\\n')"
   ]
  },
  {
   "cell_type": "code",
   "execution_count": 26,
   "id": "746775b4",
   "metadata": {},
   "outputs": [
    {
     "data": {
      "text/plain": [
       "2    7264\n",
       "1     860\n",
       "Name: Revenue_Grid, dtype: int64"
      ]
     },
     "execution_count": 26,
     "metadata": {},
     "output_type": "execute_result"
    }
   ],
   "source": [
    "data1['Revenue_Grid'].value_counts()"
   ]
  },
  {
   "cell_type": "code",
   "execution_count": 27,
   "id": "011cc2f1",
   "metadata": {},
   "outputs": [],
   "source": [
    "X=data1.drop('Revenue_Grid',axis=1)\n",
    "y=data1['Revenue_Grid']"
   ]
  },
  {
   "cell_type": "code",
   "execution_count": 28,
   "id": "946858d8",
   "metadata": {},
   "outputs": [],
   "source": [
    "from sklearn.preprocessing import StandardScaler\n",
    "X_scaled=StandardScaler().fit_transform(X)\n",
    "X=pd.DataFrame(data=X_scaled,columns=X.columns)"
   ]
  },
  {
   "cell_type": "code",
   "execution_count": 29,
   "id": "ceb368f8",
   "metadata": {},
   "outputs": [],
   "source": [
    "from sklearn.metrics import confusion_matrix,classification_report\n",
    "from sklearn.model_selection import cross_val_score\n",
    "from sklearn.linear_model import LogisticRegression\n",
    "from sklearn.tree import DecisionTreeClassifier\n",
    "from sklearn.ensemble import GradientBoostingClassifier,RandomForestClassifier\n",
    "from sklearn.feature_selection import SelectFromModel               \n",
    "from yellowbrick.model_selection import FeatureImportances"
   ]
  },
  {
   "cell_type": "code",
   "execution_count": 30,
   "id": "01aa8513",
   "metadata": {},
   "outputs": [],
   "source": [
    "import numpy as np\n",
    "import matplotlib.pyplot as plt"
   ]
  },
  {
   "cell_type": "code",
   "execution_count": 31,
   "id": "8e13cbb5",
   "metadata": {},
   "outputs": [
    {
     "name": "stdout",
     "output_type": "stream",
     "text": [
      "Total Features Selected are 9\n",
      "Threshold set by Model: 0.03\n",
      "Important Features: ['Average_Credit_Card_Transaction', 'Term_Deposit', 'Life_Insurance', 'Investment_Tax_Saving_Bond', 'Online_Purchase_Amount', 'Investment_in_Commudity', 'Investment_in_Equity', 'Investment_in_Derivative', 'Portfolio_Balance']\n"
     ]
    }
   ],
   "source": [
    "selector=SelectFromModel(estimator=RandomForestClassifier(n_estimators=100,random_state=42,n_jobs=-1))\n",
    "selector.fit(X,y)\n",
    "selected_feat=X.columns[(selector.get_support())].to_list()\n",
    "print('Total Features Selected are', len(selected_feat))\n",
    "print('Threshold set by Model:', np.round(selector.threshold_, decimals = 2))\n",
    "print('Important Features:', selected_feat)"
   ]
  },
  {
   "cell_type": "code",
   "execution_count": 32,
   "id": "8c060c41",
   "metadata": {},
   "outputs": [
    {
     "data": {
      "image/png": "[encoded data removed]",
      "text/plain": [
       "<Figure size 1080x576 with 1 Axes>"
      ]
     },
     "metadata": {},
     "output_type": "display_data"
    }
   ],
   "source": [
    "figure=plt.figure(figsize=[15,8])\n",
    "viz = FeatureImportances(selector.estimator, relative=False)\n",
    "viz.fit(X, y)\n",
    "\n",
    "plt.xlabel('Relative Importance', size=14)\n",
    "plt.ylabel('Features', size=14)\n",
    "plt.title(label='Feature Importances', size=16)\n",
    "plt.show()"
   ]
  },
  {
   "cell_type": "code",
   "execution_count": 33,
   "id": "21552a9f",
   "metadata": {},
   "outputs": [],
   "source": [
    "X_feat=X[['Average_Credit_Card_Transaction', 'Term_Deposit', 'Life_Insurance', 'Investment_Tax_Saving_Bond', 'Online_Purchase_Amount', 'Investment_in_Commudity', 'Investment_in_Equity', 'Investment_in_Derivative', 'Portfolio_Balance']]"
   ]
  },
  {
   "cell_type": "code",
   "execution_count": 34,
   "id": "3dc7ec43",
   "metadata": {},
   "outputs": [],
   "source": [
    "from sklearn.model_selection import train_test_split"
   ]
  },
  {
   "cell_type": "code",
   "execution_count": 35,
   "id": "acfe54cc",
   "metadata": {},
   "outputs": [],
   "source": [
    "X_train,X_test,y_train,y_test=train_test_split(X_feat,y,test_size=0.2,random_state=42)"
   ]
  },
  {
   "cell_type": "code",
   "execution_count": 36,
   "id": "8830c812",
   "metadata": {},
   "outputs": [
    {
     "name": "stdout",
     "output_type": "stream",
     "text": [
      "X_train shape:  (6499, 9)\n",
      "y_train shape:  (6499,)\n",
      "X_test shape:  (1625, 9)\n",
      "y_test shape:  (1625,)\n"
     ]
    }
   ],
   "source": [
    "print('X_train shape: ',X_train.shape)\n",
    "print('y_train shape: ',y_train.shape)\n",
    "print('X_test shape: ',X_test.shape)\n",
    "print('y_test shape: ',y_test.shape)"
   ]
  },
  {
   "cell_type": "code",
   "execution_count": 37,
   "id": "6302be03",
   "metadata": {},
   "outputs": [],
   "source": [
    "from sklearn.model_selection import RandomizedSearchCV\n",
    "n_estimators = [int(x) for x in np.linspace(start = 200, stop = 2000, num = 10)]\n",
    "max_features = ['auto', 'sqrt']\n",
    "max_depth = [int(x) for x in np.linspace(10, 110, num = 11)]\n",
    "min_samples_split = [2, 5, 10]\n",
    "min_samples_leaf = [1, 2, 4]\n",
    "bootstrap = [True, False]"
   ]
  },
  {
   "cell_type": "code",
   "execution_count": 38,
   "id": "d58bc756",
   "metadata": {},
   "outputs": [],
   "source": [
    "random_grid = {'n_estimators': n_estimators,\n",
    "               'max_features': max_features,\n",
    "               'max_depth': max_depth,\n",
    "               'min_samples_split': min_samples_split,\n",
    "               'min_samples_leaf': min_samples_leaf,\n",
    "               'bootstrap': bootstrap}"
   ]
  },
  {
   "cell_type": "code",
   "execution_count": 39,
   "id": "7ee111fc",
   "metadata": {},
   "outputs": [],
   "source": [
    "virgin_rf=RandomForestClassifier()\n",
    "rf_random = RandomizedSearchCV(estimator = virgin_rf, param_distributions = random_grid, n_iter = 100, cv = 3, verbose=2, random_state=42, n_jobs = -1)"
   ]
  },
  {
   "cell_type": "code",
   "execution_count": 40,
   "id": "aed4e162",
   "metadata": {},
   "outputs": [],
   "source": [
    "#rf_random.fit(X_train,y_train)"
   ]
  },
  {
   "cell_type": "code",
   "execution_count": 41,
   "id": "919ca847",
   "metadata": {},
   "outputs": [
    {
     "name": "stdout",
     "output_type": "stream",
     "text": [
      "Training Accuracy\n",
      "0.9879981535620864\n",
      "Testing Accuracy\n",
      "0.9501538461538461\n",
      "[[ 128   27]\n",
      " [  54 1416]]\n",
      "              precision    recall  f1-score   support\n",
      "\n",
      "           1       0.70      0.83      0.76       155\n",
      "           2       0.98      0.96      0.97      1470\n",
      "\n",
      "    accuracy                           0.95      1625\n",
      "   macro avg       0.84      0.89      0.87      1625\n",
      "weighted avg       0.95      0.95      0.95      1625\n",
      "\n"
     ]
    }
   ],
   "source": [
    "rf = RandomForestClassifier(n_estimators=400,\n",
    " min_samples_split=2,\n",
    " min_samples_leaf=4,\n",
    " max_features='auto',\n",
    " max_depth=30,\n",
    " bootstrap=False,class_weight='balanced',random_state=42)\n",
    "rf.fit(X_train,y_train)\n",
    "print(\"Training Accuracy\")\n",
    "print(rf.score(X_train,y_train))\n",
    "print(\"Testing Accuracy\")\n",
    "print(rf.score(X_test,y_test))\n",
    "predicted = rf.predict(X_test)\n",
    "print(confusion_matrix(y_test,predicted))\n",
    "print(classification_report(y_test,predicted))"
   ]
  },
  {
   "cell_type": "code",
   "execution_count": 42,
   "id": "fa82d4c0",
   "metadata": {},
   "outputs": [
    {
     "ename": "AttributeError",
     "evalue": "'RandomizedSearchCV' object has no attribute 'best_params_'",
     "output_type": "error",
     "traceback": [
      "\u001b[1;31m--------------------\u001b[0m",
      "\u001b[1;31mAttributeError\u001b[0mTraceback (most recent call last)",
      "\u001b[1;32m~\\AppData\\Local\\Temp/ipykernel_11848/2407610184.py\u001b[0m in \u001b[0;36m<module>\u001b[1;34m\u001b[0m\n\u001b[1;32m----> 1\u001b[1;33m \u001b[0mrf_random\u001b[0m\u001b[1;33m.\u001b[0m\u001b[0mbest_params_\u001b[0m\u001b[1;33m\u001b[0m\u001b[1;33m\u001b[0m\u001b[0m\n\u001b[0m",
      "\u001b[1;31mAttributeError\u001b[0m: 'RandomizedSearchCV' object has no attribute 'best_params_'"
     ]
    }
   ],
   "source": [
    "rf_random.best_params_"
   ]
  },
  {
   "cell_type": "code",
   "execution_count": 43,
   "id": "29c8acf0",
   "metadata": {},
   "outputs": [
    {
     "name": "stdout",
     "output_type": "stream",
     "text": [
      "Training Accuracy\n",
      "0.9989229112171103\n",
      "Testing Accuracy\n",
      "0.9563076923076923\n",
      "[[ 118   37]\n",
      " [  34 1436]]\n",
      "              precision    recall  f1-score   support\n",
      "\n",
      "           1       0.78      0.76      0.77       155\n",
      "           2       0.97      0.98      0.98      1470\n",
      "\n",
      "    accuracy                           0.96      1625\n",
      "   macro avg       0.88      0.87      0.87      1625\n",
      "weighted avg       0.96      0.96      0.96      1625\n",
      "\n"
     ]
    }
   ],
   "source": [
    "rf = RandomForestClassifier(n_estimators=2000,\n",
    " min_samples_split=5,\n",
    " min_samples_leaf=1,\n",
    " max_features='sqrt',\n",
    " max_depth=50,\n",
    " bootstrap=True,class_weight='balanced',random_state=42)\n",
    "rf.fit(X_train,y_train)\n",
    "print(\"Training Accuracy\")\n",
    "print(rf.score(X_train,y_train))\n",
    "print(\"Testing Accuracy\")\n",
    "print(rf.score(X_test,y_test))\n",
    "predicted = rf.predict(X_test)\n",
    "print(confusion_matrix(y_test,predicted))\n",
    "print(classification_report(y_test,predicted))"
   ]
  },
  {
   "cell_type": "code",
   "execution_count": null,
   "id": "e7c489b7",
   "metadata": {},
   "outputs": [],
   "source": [
    "from imblearn.over_sampling import SMOTE\n",
    "from collections import Counter"
   ]
  },
  {
   "cell_type": "code",
   "execution_count": null,
   "id": "f5746f68",
   "metadata": {},
   "outputs": [],
   "source": [
    "counter=Counter(y_train)\n",
    "print('before :',counter)\n",
    "smt=SMOTE(random_state=42)\n",
    "X_trainsm,y_trainsm=smt.fit_resample(X_train,y_train)\n",
    "counter=Counter(y_trainsm)\n",
    "print('After :',counter)"
   ]
  },
  {
   "cell_type": "code",
   "execution_count": null,
   "id": "ac0fb047",
   "metadata": {},
   "outputs": [],
   "source": [
    "print(X_trainsm.shape)\n",
    "print(y_trainsm.shape)"
   ]
  },
  {
   "cell_type": "code",
   "execution_count": null,
   "id": "9f77bbb3",
   "metadata": {},
   "outputs": [],
   "source": [
    "rfsm = RandomForestClassifier(n_estimators=2000,\n",
    " min_samples_split=5,\n",
    " min_samples_leaf=1,\n",
    " max_features='sqrt',\n",
    " max_depth=50,\n",
    " bootstrap=True,class_weight='balanced',random_state=42)\n",
    "rfsm.fit(X_trainsm,y_trainsm)\n",
    "print(\"Training Accuracy\")\n",
    "print(rfsm.score(X_trainsm,y_trainsm))\n",
    "print(\"Testing Accuracy\")\n",
    "print(rfsm.score(X_test,y_test))\n",
    "predicted = rfsm.predict(X_test)\n",
    "print(confusion_matrix(y_test,predicted))\n",
    "print(classification_report(y_test,predicted))"
   ]
  },
  {
   "cell_type": "code",
   "execution_count": 45,
   "id": "484041e4",
   "metadata": {},
   "outputs": [
    {
     "data": {
      "text/html": [
       "<div>\n",
       "<style scoped>\n",
       "    .dataframe tbody tr th:only-of-type {\n",
       "        vertical-align: middle;\n",
       "    }\n",
       "\n",
       "    .dataframe tbody tr th {\n",
       "        vertical-align: top;\n",
       "    }\n",
       "\n",
       "    .dataframe thead th {\n",
       "        text-align: right;\n",
       "    }\n",
       "</style>\n",
       "<table border=\"1\" class=\"dataframe\">\n",
       "  <thead>\n",
       "    <tr style=\"text-align: right;\">\n",
       "      <th></th>\n",
       "      <th>REF_NO</th>\n",
       "      <th>children</th>\n",
       "      <th>age_band</th>\n",
       "      <th>status</th>\n",
       "      <th>occupation</th>\n",
       "      <th>occupation_partner</th>\n",
       "      <th>home_status</th>\n",
       "      <th>family_income</th>\n",
       "      <th>self_employed</th>\n",
       "      <th>self_employed_partner</th>\n",
       "      <th>...</th>\n",
       "      <th>Investment_in_Mutual_Fund</th>\n",
       "      <th>Investment_Tax_Saving_Bond</th>\n",
       "      <th>Home_Loan</th>\n",
       "      <th>Online_Purchase_Amount</th>\n",
       "      <th>gender</th>\n",
       "      <th>region</th>\n",
       "      <th>Investment_in_Commudity</th>\n",
       "      <th>Investment_in_Equity</th>\n",
       "      <th>Investment_in_Derivative</th>\n",
       "      <th>Portfolio_Balance</th>\n",
       "    </tr>\n",
       "  </thead>\n",
       "  <tbody>\n",
       "    <tr>\n",
       "      <th>0</th>\n",
       "      <td>697</td>\n",
       "      <td>Zero</td>\n",
       "      <td>71+</td>\n",
       "      <td>Partner</td>\n",
       "      <td>Retired</td>\n",
       "      <td>Housewife</td>\n",
       "      <td>Own Home</td>\n",
       "      <td>&lt;12,500, &gt;=10,000</td>\n",
       "      <td>No</td>\n",
       "      <td>No</td>\n",
       "      <td>...</td>\n",
       "      <td>45.97</td>\n",
       "      <td>0.00</td>\n",
       "      <td>0.00</td>\n",
       "      <td>0.00</td>\n",
       "      <td>Male</td>\n",
       "      <td>South West</td>\n",
       "      <td>40.48</td>\n",
       "      <td>15.07</td>\n",
       "      <td>28.40</td>\n",
       "      <td>83.05</td>\n",
       "    </tr>\n",
       "    <tr>\n",
       "      <th>1</th>\n",
       "      <td>7897</td>\n",
       "      <td>Zero</td>\n",
       "      <td>31-35</td>\n",
       "      <td>Partner</td>\n",
       "      <td>Unknown</td>\n",
       "      <td>Business Manager</td>\n",
       "      <td>Own Home</td>\n",
       "      <td>&gt;=35,000</td>\n",
       "      <td>No</td>\n",
       "      <td>No</td>\n",
       "      <td>...</td>\n",
       "      <td>133.88</td>\n",
       "      <td>27.45</td>\n",
       "      <td>13.47</td>\n",
       "      <td>57.46</td>\n",
       "      <td>Male</td>\n",
       "      <td>South East</td>\n",
       "      <td>27.07</td>\n",
       "      <td>72.01</td>\n",
       "      <td>82.74</td>\n",
       "      <td>235.29</td>\n",
       "    </tr>\n",
       "    <tr>\n",
       "      <th>2</th>\n",
       "      <td>4729</td>\n",
       "      <td>Zero</td>\n",
       "      <td>71+</td>\n",
       "      <td>Partner</td>\n",
       "      <td>Housewife</td>\n",
       "      <td>Retired</td>\n",
       "      <td>Own Home</td>\n",
       "      <td>&lt;15,000, &gt;=12,500</td>\n",
       "      <td>No</td>\n",
       "      <td>No</td>\n",
       "      <td>...</td>\n",
       "      <td>107.88</td>\n",
       "      <td>0.00</td>\n",
       "      <td>0.00</td>\n",
       "      <td>0.00</td>\n",
       "      <td>Female</td>\n",
       "      <td>South West</td>\n",
       "      <td>44.39</td>\n",
       "      <td>32.62</td>\n",
       "      <td>43.86</td>\n",
       "      <td>98.38</td>\n",
       "    </tr>\n",
       "    <tr>\n",
       "      <th>3</th>\n",
       "      <td>6914</td>\n",
       "      <td>1</td>\n",
       "      <td>22-25</td>\n",
       "      <td>Partner</td>\n",
       "      <td>Other</td>\n",
       "      <td>Other</td>\n",
       "      <td>Own Home</td>\n",
       "      <td>&lt;17,500, &gt;=15,000</td>\n",
       "      <td>No</td>\n",
       "      <td>No</td>\n",
       "      <td>...</td>\n",
       "      <td>44.96</td>\n",
       "      <td>0.00</td>\n",
       "      <td>0.00</td>\n",
       "      <td>0.00</td>\n",
       "      <td>Female</td>\n",
       "      <td>Scotland</td>\n",
       "      <td>21.59</td>\n",
       "      <td>24.57</td>\n",
       "      <td>29.23</td>\n",
       "      <td>86.32</td>\n",
       "    </tr>\n",
       "    <tr>\n",
       "      <th>4</th>\n",
       "      <td>2795</td>\n",
       "      <td>Zero</td>\n",
       "      <td>65-70</td>\n",
       "      <td>Widowed</td>\n",
       "      <td>Retired</td>\n",
       "      <td>Unknown</td>\n",
       "      <td>Own Home</td>\n",
       "      <td>&lt; 4,000</td>\n",
       "      <td>No</td>\n",
       "      <td>No</td>\n",
       "      <td>...</td>\n",
       "      <td>33.96</td>\n",
       "      <td>6.99</td>\n",
       "      <td>17.93</td>\n",
       "      <td>5.45</td>\n",
       "      <td>Female</td>\n",
       "      <td>South East</td>\n",
       "      <td>53.66</td>\n",
       "      <td>16.22</td>\n",
       "      <td>32.89</td>\n",
       "      <td>102.99</td>\n",
       "    </tr>\n",
       "  </tbody>\n",
       "</table>\n",
       "<p>5 rows × 31 columns</p>\n",
       "</div>"
      ],
      "text/plain": [
       "   REF_NO children age_band   status occupation occupation_partner  \\\n",
       "0     697     Zero      71+  Partner    Retired          Housewife   \n",
       "1    7897     Zero    31-35  Partner    Unknown   Business Manager   \n",
       "2    4729     Zero      71+  Partner  Housewife            Retired   \n",
       "3    6914        1    22-25  Partner      Other              Other   \n",
       "4    2795     Zero    65-70  Widowed    Retired            Unknown   \n",
       "\n",
       "  home_status      family_income self_employed self_employed_partner  ...  \\\n",
       "0    Own Home  <12,500, >=10,000            No                    No  ...   \n",
       "1    Own Home           >=35,000            No                    No  ...   \n",
       "2    Own Home  <15,000, >=12,500            No                    No  ...   \n",
       "3    Own Home  <17,500, >=15,000            No                    No  ...   \n",
       "4    Own Home            < 4,000            No                    No  ...   \n",
       "\n",
       "   Investment_in_Mutual_Fund Investment_Tax_Saving_Bond Home_Loan  \\\n",
       "0                      45.97                       0.00      0.00   \n",
       "1                     133.88                      27.45     13.47   \n",
       "2                     107.88                       0.00      0.00   \n",
       "3                      44.96                       0.00      0.00   \n",
       "4                      33.96                       6.99     17.93   \n",
       "\n",
       "  Online_Purchase_Amount  gender      region  Investment_in_Commudity  \\\n",
       "0                   0.00    Male  South West                    40.48   \n",
       "1                  57.46    Male  South East                    27.07   \n",
       "2                   0.00  Female  South West                    44.39   \n",
       "3                   0.00  Female    Scotland                    21.59   \n",
       "4                   5.45  Female  South East                    53.66   \n",
       "\n",
       "   Investment_in_Equity  Investment_in_Derivative  Portfolio_Balance  \n",
       "0                 15.07                     28.40              83.05  \n",
       "1                 72.01                     82.74             235.29  \n",
       "2                 32.62                     43.86              98.38  \n",
       "3                 24.57                     29.23              86.32  \n",
       "4                 16.22                     32.89             102.99  \n",
       "\n",
       "[5 rows x 31 columns]"
      ]
     },
     "execution_count": 45,
     "metadata": {},
     "output_type": "execute_result"
    }
   ],
   "source": [
    "test=pd.read_csv('existing_base_test.csv')\n",
    "test.head()"
   ]
  },
  {
   "cell_type": "code",
   "execution_count": 46,
   "id": "bd2155e4",
   "metadata": {},
   "outputs": [
    {
     "data": {
      "text/plain": [
       "25000.0"
      ]
     },
     "execution_count": 46,
     "metadata": {},
     "output_type": "execute_result"
    }
   ],
   "source": [
    "test['children']=test['children'].replace('Zero',0)\n",
    "test['family_income']=test['family_income'].replace(['>=35,000','<22,500, >=20,000','<25,000, >=22,500','<30,000, >=27,500','<20,000, >=17,500','<27,500, >=25,000','< 4,000','<15,000, >=12,500','<17,500, >=15,000','< 8,000, >= 4,000','<12,500, >=10,000','<10,000, >= 8,000'],\n",
    "                                                    [35000,22500,25000,30000,20000,27500,4000,15000,17500,8000,12500,10000])\n",
    "family=test.loc[test['family_income']!='Unknown']\n",
    "family['family_income'].median()"
   ]
  },
  {
   "cell_type": "code",
   "execution_count": 47,
   "id": "a7c551cf",
   "metadata": {},
   "outputs": [],
   "source": [
    "test['family_income']=test['family_income'].replace(['Unknown'],25000)\n",
    "test['family_income'].unique()\n",
    "test['self_employed']=test['self_employed'].replace(['No','Yes'],[0,1])\n",
    "test['self_employed_partner']=test['self_employed_partner'].replace(['No','Yes'],[0,1])"
   ]
  },
  {
   "cell_type": "code",
   "execution_count": 48,
   "id": "9ab9eac2",
   "metadata": {},
   "outputs": [],
   "source": [
    "obcol=[]\n",
    "for col in test:\n",
    "    if test[col].dtype=='object':\n",
    "        obcol.append(col)"
   ]
  },
  {
   "cell_type": "code",
   "execution_count": 50,
   "id": "a8190799",
   "metadata": {},
   "outputs": [],
   "source": [
    "encoder=HashingEncoder(cols=obcol,n_components=11)\n",
    "test1=encoder.fit_transform(test)"
   ]
  },
  {
   "cell_type": "code",
   "execution_count": 51,
   "id": "206a9d96",
   "metadata": {},
   "outputs": [],
   "source": [
    "X_scaled=StandardScaler().fit_transform(test1)\n",
    "X=pd.DataFrame(data=X_scaled,columns=test1.columns)"
   ]
  },
  {
   "cell_type": "code",
   "execution_count": 52,
   "id": "c427b98d",
   "metadata": {},
   "outputs": [],
   "source": [
    "X_feat=X[['Average_Credit_Card_Transaction', 'Term_Deposit', 'Life_Insurance', 'Investment_Tax_Saving_Bond', 'Online_Purchase_Amount', 'Investment_in_Commudity', 'Investment_in_Equity', 'Investment_in_Derivative', 'Portfolio_Balance']]"
   ]
  },
  {
   "cell_type": "code",
   "execution_count": 53,
   "id": "1f75ed08",
   "metadata": {},
   "outputs": [],
   "source": [
    "result = rf.predict(X_feat)"
   ]
  },
  {
   "cell_type": "code",
   "execution_count": 61,
   "id": "1f9a0fc2",
   "metadata": {},
   "outputs": [],
   "source": [
    "resultpd=pd.Series(data=result)"
   ]
  },
  {
   "cell_type": "code",
   "execution_count": 64,
   "id": "5e1fdd0b",
   "metadata": {},
   "outputs": [],
   "source": [
    "submission=pd.read_csv('existing_base_test.csv')"
   ]
  },
  {
   "cell_type": "code",
   "execution_count": 65,
   "id": "20919b3c",
   "metadata": {},
   "outputs": [],
   "source": [
    "submission['rf_prediction']=resultpd"
   ]
  },
  {
   "cell_type": "code",
   "execution_count": 67,
   "id": "8de0d667",
   "metadata": {},
   "outputs": [
    {
     "data": {
      "text/plain": [
       "Index(['REF_NO', 'children', 'age_band', 'status', 'occupation',\n",
       "       'occupation_partner', 'home_status', 'family_income', 'self_employed',\n",
       "       'self_employed_partner', 'year_last_moved', 'TVarea', 'post_code',\n",
       "       'post_area', 'Average_Credit_Card_Transaction', 'Balance_Transfer',\n",
       "       'Term_Deposit', 'Life_Insurance', 'Medical_Insurance',\n",
       "       'Average_A/C_Balance', 'Personal_Loan', 'Investment_in_Mutual_Fund',\n",
       "       'Investment_Tax_Saving_Bond', 'Home_Loan', 'Online_Purchase_Amount',\n",
       "       'gender', 'region', 'Investment_in_Commudity', 'Investment_in_Equity',\n",
       "       'Investment_in_Derivative', 'Portfolio_Balance', 'rf_prediction'],\n",
       "      dtype='object')"
      ]
     },
     "execution_count": 67,
     "metadata": {},
     "output_type": "execute_result"
    }
   ],
   "source": [
    "submission.columns"
   ]
  },
  {
   "cell_type": "code",
   "execution_count": 68,
   "id": "8fb23f96",
   "metadata": {},
   "outputs": [],
   "source": [
    "submission=submission.drop(['children', 'age_band', 'status', 'occupation',\n",
    "       'occupation_partner', 'home_status', 'family_income', 'self_employed',\n",
    "       'self_employed_partner', 'year_last_moved', 'TVarea', 'post_code',\n",
    "       'post_area', 'Average_Credit_Card_Transaction', 'Balance_Transfer',\n",
    "       'Term_Deposit', 'Life_Insurance', 'Medical_Insurance',\n",
    "       'Average_A/C_Balance', 'Personal_Loan', 'Investment_in_Mutual_Fund',\n",
    "       'Investment_Tax_Saving_Bond', 'Home_Loan', 'Online_Purchase_Amount',\n",
    "       'gender', 'region', 'Investment_in_Commudity', 'Investment_in_Equity',\n",
    "       'Investment_in_Derivative', 'Portfolio_Balance'],axis=1)"
   ]
  },
  {
   "cell_type": "code",
   "execution_count": 72,
   "id": "f0deecd4",
   "metadata": {},
   "outputs": [],
   "source": [
    "submission.to_csv('submission.csv',index=False,header=False)"
   ]
  },
  {
   "cell_type": "code",
   "execution_count": null,
   "id": "d5ce0c59",
   "metadata": {},
   "outputs": [],
   "source": []
  }
 ],
 "metadata": {
  "kernelspec": {
   "display_name": "Python 3 (ipykernel)",
   "language": "python",
   "name": "python3"
  },
  "language_info": {
   "codemirror_mode": {
    "name": "ipython",
    "version": 3
   },
   "file_extension": ".py",
   "mimetype": "text/x-python",
   "name": "python",
   "nbconvert_exporter": "python",
   "pygments_lexer": "ipython3",
   "version": "3.9.7"
  }
 },
 "nbformat": 4,
 "nbformat_minor": 5
}
